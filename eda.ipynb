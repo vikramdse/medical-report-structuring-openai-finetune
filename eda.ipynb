{
 "cells": [
  {
   "cell_type": "code",
   "execution_count": 124,
   "metadata": {},
   "outputs": [],
   "source": [
    "import pandas as pd\n",
    "from datasets import load_dataset\n"
   ]
  },
  {
   "cell_type": "code",
   "execution_count": 125,
   "metadata": {},
   "outputs": [],
   "source": [
    "ds = load_dataset(\"WoutDeRijck/medical_reports\")"
   ]
  },
  {
   "cell_type": "code",
   "execution_count": 126,
   "metadata": {},
   "outputs": [
    {
     "data": {
      "text/plain": [
       "DatasetDict({\n",
       "    train: Dataset({\n",
       "        features: ['prompt', 'completion'],\n",
       "        num_rows: 100\n",
       "    })\n",
       "})"
      ]
     },
     "execution_count": 126,
     "metadata": {},
     "output_type": "execute_result"
    }
   ],
   "source": [
    "ds"
   ]
  },
  {
   "cell_type": "code",
   "execution_count": 127,
   "metadata": {},
   "outputs": [
    {
     "data": {
      "text/plain": [
       "{'prompt': [\"\\nExtract the medical report information into the following model:\\n{'$defs': {'Action': {'enum': ['HYDRATION', 'STRESS_MANAGEMENT', 'SLEEP', 'EXERCISE', 'DIETARY_CHANGES', 'MEDICATION_ADHERENCE', 'REGULAR_CHECKUPS', 'AVOID_ALCOHOL', 'SMOKING_CESSATION', 'BALANCED_DIET', 'PHYSICAL_THERAPY', 'MENTAL_HEALTH_SUPPORT', 'PAIN_MANAGEMENT', 'IMMUNIZATION', 'FOLLOW_UP_VISITS', 'WEIGHT_MANAGEMENT', 'BLOOD_PRESSURE_MONITORING', 'BLOOD_SUGAR_MONITORING', 'CHOLESTEROL_CONTROL', 'FLUID_INTAKE_MONITORING'], 'title': 'Action', 'type': 'string'}, 'Address': {'properties': {'street': {'title': 'Street', 'type': 'string'}, 'city': {'title': 'City', 'type': 'string'}, 'state': {'title': 'State', 'type': 'string'}, 'zip_code': {'title': 'Zip Code', 'type': 'string'}}, 'required': ['street', 'city', 'state', 'zip_code'], 'title': 'Address', 'type': 'object'}, 'Diagnosis': {'enum': ['FLU', 'COLD', 'COVID19', 'ASTHMA', 'DIABETES', 'HYPERTENSION', 'MIGRAINE', 'ANEMIA', 'ARTHRITIS', 'DEPRESSION', 'ALLERGY', 'BRONCHITIS'], 'title': 'Diagnosis', 'type': 'string'}, 'Medication': {'enum': ['PARACETAMOL', 'IBUPROFEN', 'AMOXICILLIN', 'METFORMIN', 'ALBUTEROL', 'LISINOPRIL', 'ATORVASTATIN', 'ASPIRIN', 'OMEPRAZOLE', 'LEVOTHYROXINE', 'SIMVASTATIN', 'LOSARTAN'], 'title': 'Medication', 'type': 'string'}, 'Patient': {'properties': {'name': {'description': 'The first name of the patient', 'title': 'Name', 'type': 'string'}, 'surname': {'description': 'The last name of the patient', 'title': 'Surname', 'type': 'string'}, 'age': {'description': 'The age of the patient, if not specified = 0', 'title': 'Age', 'type': 'integer'}, 'gender': {'description': 'The gender of the patient. Male of Female', 'title': 'Gender', 'type': 'string'}, 'address': {'$ref': '#/$defs/Address', 'description': 'The address of the patient'}, 'phone_number': {'description': 'The phone number of the patient', 'title': 'Phone Number', 'type': 'string'}, 'email': {'description': 'The email of the patient', 'title': 'Email', 'type': 'string'}}, 'required': ['name', 'surname', 'age', 'gender', 'address', 'phone_number', 'email'], 'title': 'Patient', 'type': 'object'}, 'Symptom': {'enum': ['FEVER', 'COUGH', 'FATIGUE', 'SHORTNESS_OF_BREATH', 'NAUSEA', 'HEADACHE', 'DIZZINESS', 'SORE_THROAT', 'RUNNY_NOSE', 'MUSCLE_ACHES', 'LOSS_OF_TASTE', 'LOSS_OF_SMELL', 'CHEST_PAIN', 'CHILLS'], 'title': 'Symptom', 'type': 'string'}, 'TreatmentPlan': {'properties': {'time_period': {'description': 'The time period for the treatment plan in days, if not specified = 1', 'title': 'Time Period', 'type': 'integer'}, 'actions': {'items': {'$ref': '#/$defs/Action'}, 'title': 'Actions', 'type': 'array'}, 'medications': {'items': {'$ref': '#/$defs/Medication'}, 'title': 'Medications', 'type': 'array'}}, 'required': ['time_period', 'actions', 'medications'], 'title': 'TreatmentPlan', 'type': 'object'}}, 'properties': {'patient': {'$ref': '#/$defs/Patient'}, 'diagnosis': {'$ref': '#/$defs/Diagnosis'}, 'treatment_plan': {'$ref': '#/$defs/TreatmentPlan'}, 'symptoms': {'items': {'$ref': '#/$defs/Symptom'}, 'title': 'Symptoms', 'type': 'array'}}, 'required': ['patient', 'diagnosis', 'treatment_plan', 'symptoms'], 'title': 'MedicalReport', 'type': 'object'}\\nIf something is not clear, or incomplete, leave it blank.\\n\\n### INPUT:\\nSophia Mitchell, a 42-year-old woman, has been experiencing a relentless headache and occasional dizziness for the past two weeks. The headaches are severe and often accompanied by feeling lightheaded, which causes her to sit or lie down frequently. Sophia, residing at 17 Peacock Lane, Apt 3B, Middleton, has tried over-the-counter pain relief without success. Concerned about these persistent symptoms, she consulted her primary healthcare provider at Middleton Health Clinic. During the visit, her doctor noted her symptoms were indicative of migraines. Sophia is currently being treated with a medication regimen that includes Ibuprofen for the pain and supplementary lifestyle adjustments to help manage stress and potential triggers. The treatment plan is established for a one-month period, with regular check-ins. Sophia's contact details for further correspondence include her phone number, (555) 763-2891, and her email address, sophiamitchell42@gmail.com.\\n\\n### RESPONSE:\\n\",\n",
       "  \"\\nExtract the medical report information into the following model:\\n{'$defs': {'Action': {'enum': ['HYDRATION', 'STRESS_MANAGEMENT', 'SLEEP', 'EXERCISE', 'DIETARY_CHANGES', 'MEDICATION_ADHERENCE', 'REGULAR_CHECKUPS', 'AVOID_ALCOHOL', 'SMOKING_CESSATION', 'BALANCED_DIET', 'PHYSICAL_THERAPY', 'MENTAL_HEALTH_SUPPORT', 'PAIN_MANAGEMENT', 'IMMUNIZATION', 'FOLLOW_UP_VISITS', 'WEIGHT_MANAGEMENT', 'BLOOD_PRESSURE_MONITORING', 'BLOOD_SUGAR_MONITORING', 'CHOLESTEROL_CONTROL', 'FLUID_INTAKE_MONITORING'], 'title': 'Action', 'type': 'string'}, 'Address': {'properties': {'street': {'title': 'Street', 'type': 'string'}, 'city': {'title': 'City', 'type': 'string'}, 'state': {'title': 'State', 'type': 'string'}, 'zip_code': {'title': 'Zip Code', 'type': 'string'}}, 'required': ['street', 'city', 'state', 'zip_code'], 'title': 'Address', 'type': 'object'}, 'Diagnosis': {'enum': ['FLU', 'COLD', 'COVID19', 'ASTHMA', 'DIABETES', 'HYPERTENSION', 'MIGRAINE', 'ANEMIA', 'ARTHRITIS', 'DEPRESSION', 'ALLERGY', 'BRONCHITIS'], 'title': 'Diagnosis', 'type': 'string'}, 'Medication': {'enum': ['PARACETAMOL', 'IBUPROFEN', 'AMOXICILLIN', 'METFORMIN', 'ALBUTEROL', 'LISINOPRIL', 'ATORVASTATIN', 'ASPIRIN', 'OMEPRAZOLE', 'LEVOTHYROXINE', 'SIMVASTATIN', 'LOSARTAN'], 'title': 'Medication', 'type': 'string'}, 'Patient': {'properties': {'name': {'description': 'The first name of the patient', 'title': 'Name', 'type': 'string'}, 'surname': {'description': 'The last name of the patient', 'title': 'Surname', 'type': 'string'}, 'age': {'description': 'The age of the patient, if not specified = 0', 'title': 'Age', 'type': 'integer'}, 'gender': {'description': 'The gender of the patient. Male of Female', 'title': 'Gender', 'type': 'string'}, 'address': {'$ref': '#/$defs/Address', 'description': 'The address of the patient'}, 'phone_number': {'description': 'The phone number of the patient', 'title': 'Phone Number', 'type': 'string'}, 'email': {'description': 'The email of the patient', 'title': 'Email', 'type': 'string'}}, 'required': ['name', 'surname', 'age', 'gender', 'address', 'phone_number', 'email'], 'title': 'Patient', 'type': 'object'}, 'Symptom': {'enum': ['FEVER', 'COUGH', 'FATIGUE', 'SHORTNESS_OF_BREATH', 'NAUSEA', 'HEADACHE', 'DIZZINESS', 'SORE_THROAT', 'RUNNY_NOSE', 'MUSCLE_ACHES', 'LOSS_OF_TASTE', 'LOSS_OF_SMELL', 'CHEST_PAIN', 'CHILLS'], 'title': 'Symptom', 'type': 'string'}, 'TreatmentPlan': {'properties': {'time_period': {'description': 'The time period for the treatment plan in days, if not specified = 1', 'title': 'Time Period', 'type': 'integer'}, 'actions': {'items': {'$ref': '#/$defs/Action'}, 'title': 'Actions', 'type': 'array'}, 'medications': {'items': {'$ref': '#/$defs/Medication'}, 'title': 'Medications', 'type': 'array'}}, 'required': ['time_period', 'actions', 'medications'], 'title': 'TreatmentPlan', 'type': 'object'}}, 'properties': {'patient': {'$ref': '#/$defs/Patient'}, 'diagnosis': {'$ref': '#/$defs/Diagnosis'}, 'treatment_plan': {'$ref': '#/$defs/TreatmentPlan'}, 'symptoms': {'items': {'$ref': '#/$defs/Symptom'}, 'title': 'Symptoms', 'type': 'array'}}, 'required': ['patient', 'diagnosis', 'treatment_plan', 'symptoms'], 'title': 'MedicalReport', 'type': 'object'}\\nIf something is not clear, or incomplete, leave it blank.\\n\\n### INPUT:\\nCassandra Thompson, a vibrant 28-year-old graphic designer from Willow Creek, has been feeling under the weather lately. She noticed a persistent, hacking cough accompanied by a mild fever that just doesn't seem to go away, making her feel quite fatigued with bouts of dizziness. These symptoms led her to visit her primary care physician, Dr. Melissa Chang, at the Riverbend Medical Center. After a thorough examination and a series of tests, Dr. Chang diagnosed her with the common flu. To manage her symptoms and speed up recovery, Cassandra was advised to stay hydrated and get plenty of rest. Her treatment plan includes a 5-day course of paracetamol to help reduce the fever and manage any pain. Dr. Chang reassured Cassandra that with proper care, she should be back on her feet in no time. Cassandra, who lives at 42 Birch Lane, is eager to follow her doctor's advice and get back to her creative work. If needed, she can be reached at her home phone number, 555-6724, or via email at cassie.create@gmail.com.\\n\\n### RESPONSE:\\n\",\n",
       "  \"\\nExtract the medical report information into the following model:\\n{'$defs': {'Action': {'enum': ['HYDRATION', 'STRESS_MANAGEMENT', 'SLEEP', 'EXERCISE', 'DIETARY_CHANGES', 'MEDICATION_ADHERENCE', 'REGULAR_CHECKUPS', 'AVOID_ALCOHOL', 'SMOKING_CESSATION', 'BALANCED_DIET', 'PHYSICAL_THERAPY', 'MENTAL_HEALTH_SUPPORT', 'PAIN_MANAGEMENT', 'IMMUNIZATION', 'FOLLOW_UP_VISITS', 'WEIGHT_MANAGEMENT', 'BLOOD_PRESSURE_MONITORING', 'BLOOD_SUGAR_MONITORING', 'CHOLESTEROL_CONTROL', 'FLUID_INTAKE_MONITORING'], 'title': 'Action', 'type': 'string'}, 'Address': {'properties': {'street': {'title': 'Street', 'type': 'string'}, 'city': {'title': 'City', 'type': 'string'}, 'state': {'title': 'State', 'type': 'string'}, 'zip_code': {'title': 'Zip Code', 'type': 'string'}}, 'required': ['street', 'city', 'state', 'zip_code'], 'title': 'Address', 'type': 'object'}, 'Diagnosis': {'enum': ['FLU', 'COLD', 'COVID19', 'ASTHMA', 'DIABETES', 'HYPERTENSION', 'MIGRAINE', 'ANEMIA', 'ARTHRITIS', 'DEPRESSION', 'ALLERGY', 'BRONCHITIS'], 'title': 'Diagnosis', 'type': 'string'}, 'Medication': {'enum': ['PARACETAMOL', 'IBUPROFEN', 'AMOXICILLIN', 'METFORMIN', 'ALBUTEROL', 'LISINOPRIL', 'ATORVASTATIN', 'ASPIRIN', 'OMEPRAZOLE', 'LEVOTHYROXINE', 'SIMVASTATIN', 'LOSARTAN'], 'title': 'Medication', 'type': 'string'}, 'Patient': {'properties': {'name': {'description': 'The first name of the patient', 'title': 'Name', 'type': 'string'}, 'surname': {'description': 'The last name of the patient', 'title': 'Surname', 'type': 'string'}, 'age': {'description': 'The age of the patient, if not specified = 0', 'title': 'Age', 'type': 'integer'}, 'gender': {'description': 'The gender of the patient. Male of Female', 'title': 'Gender', 'type': 'string'}, 'address': {'$ref': '#/$defs/Address', 'description': 'The address of the patient'}, 'phone_number': {'description': 'The phone number of the patient', 'title': 'Phone Number', 'type': 'string'}, 'email': {'description': 'The email of the patient', 'title': 'Email', 'type': 'string'}}, 'required': ['name', 'surname', 'age', 'gender', 'address', 'phone_number', 'email'], 'title': 'Patient', 'type': 'object'}, 'Symptom': {'enum': ['FEVER', 'COUGH', 'FATIGUE', 'SHORTNESS_OF_BREATH', 'NAUSEA', 'HEADACHE', 'DIZZINESS', 'SORE_THROAT', 'RUNNY_NOSE', 'MUSCLE_ACHES', 'LOSS_OF_TASTE', 'LOSS_OF_SMELL', 'CHEST_PAIN', 'CHILLS'], 'title': 'Symptom', 'type': 'string'}, 'TreatmentPlan': {'properties': {'time_period': {'description': 'The time period for the treatment plan in days, if not specified = 1', 'title': 'Time Period', 'type': 'integer'}, 'actions': {'items': {'$ref': '#/$defs/Action'}, 'title': 'Actions', 'type': 'array'}, 'medications': {'items': {'$ref': '#/$defs/Medication'}, 'title': 'Medications', 'type': 'array'}}, 'required': ['time_period', 'actions', 'medications'], 'title': 'TreatmentPlan', 'type': 'object'}}, 'properties': {'patient': {'$ref': '#/$defs/Patient'}, 'diagnosis': {'$ref': '#/$defs/Diagnosis'}, 'treatment_plan': {'$ref': '#/$defs/TreatmentPlan'}, 'symptoms': {'items': {'$ref': '#/$defs/Symptom'}, 'title': 'Symptoms', 'type': 'array'}}, 'required': ['patient', 'diagnosis', 'treatment_plan', 'symptoms'], 'title': 'MedicalReport', 'type': 'object'}\\nIf something is not clear, or incomplete, leave it blank.\\n\\n### INPUT:\\nSebastian Blake, a 42-year-old man, has recently started experiencing persistent headaches and occasional dizziness. Residing at 326 Whispering Pines Lane, he reached out to Dr. Emily Fischer when the symptoms began affecting his daily life. He mentions feeling unusually tired despite getting enough sleep. During the consultation, it was determined that he has been experiencing high blood pressure, leading Dr. Fischer to diagnose him with hypertension. A treatment plan has been devised which includes a 6-month period of lifestyle adjustments, such as reducing salt intake and increasing physical activity, alongside prescribed medication. He is to take Lisinopril daily to manage his blood pressure. For any inquiries or further assistance, Sebastian can be contacted via his email seb.blake@emaildomain.com or his phone at 555-0190.\\n\\n### RESPONSE:\\n\",\n",
       "  \"\\nExtract the medical report information into the following model:\\n{'$defs': {'Action': {'enum': ['HYDRATION', 'STRESS_MANAGEMENT', 'SLEEP', 'EXERCISE', 'DIETARY_CHANGES', 'MEDICATION_ADHERENCE', 'REGULAR_CHECKUPS', 'AVOID_ALCOHOL', 'SMOKING_CESSATION', 'BALANCED_DIET', 'PHYSICAL_THERAPY', 'MENTAL_HEALTH_SUPPORT', 'PAIN_MANAGEMENT', 'IMMUNIZATION', 'FOLLOW_UP_VISITS', 'WEIGHT_MANAGEMENT', 'BLOOD_PRESSURE_MONITORING', 'BLOOD_SUGAR_MONITORING', 'CHOLESTEROL_CONTROL', 'FLUID_INTAKE_MONITORING'], 'title': 'Action', 'type': 'string'}, 'Address': {'properties': {'street': {'title': 'Street', 'type': 'string'}, 'city': {'title': 'City', 'type': 'string'}, 'state': {'title': 'State', 'type': 'string'}, 'zip_code': {'title': 'Zip Code', 'type': 'string'}}, 'required': ['street', 'city', 'state', 'zip_code'], 'title': 'Address', 'type': 'object'}, 'Diagnosis': {'enum': ['FLU', 'COLD', 'COVID19', 'ASTHMA', 'DIABETES', 'HYPERTENSION', 'MIGRAINE', 'ANEMIA', 'ARTHRITIS', 'DEPRESSION', 'ALLERGY', 'BRONCHITIS'], 'title': 'Diagnosis', 'type': 'string'}, 'Medication': {'enum': ['PARACETAMOL', 'IBUPROFEN', 'AMOXICILLIN', 'METFORMIN', 'ALBUTEROL', 'LISINOPRIL', 'ATORVASTATIN', 'ASPIRIN', 'OMEPRAZOLE', 'LEVOTHYROXINE', 'SIMVASTATIN', 'LOSARTAN'], 'title': 'Medication', 'type': 'string'}, 'Patient': {'properties': {'name': {'description': 'The first name of the patient', 'title': 'Name', 'type': 'string'}, 'surname': {'description': 'The last name of the patient', 'title': 'Surname', 'type': 'string'}, 'age': {'description': 'The age of the patient, if not specified = 0', 'title': 'Age', 'type': 'integer'}, 'gender': {'description': 'The gender of the patient. Male of Female', 'title': 'Gender', 'type': 'string'}, 'address': {'$ref': '#/$defs/Address', 'description': 'The address of the patient'}, 'phone_number': {'description': 'The phone number of the patient', 'title': 'Phone Number', 'type': 'string'}, 'email': {'description': 'The email of the patient', 'title': 'Email', 'type': 'string'}}, 'required': ['name', 'surname', 'age', 'gender', 'address', 'phone_number', 'email'], 'title': 'Patient', 'type': 'object'}, 'Symptom': {'enum': ['FEVER', 'COUGH', 'FATIGUE', 'SHORTNESS_OF_BREATH', 'NAUSEA', 'HEADACHE', 'DIZZINESS', 'SORE_THROAT', 'RUNNY_NOSE', 'MUSCLE_ACHES', 'LOSS_OF_TASTE', 'LOSS_OF_SMELL', 'CHEST_PAIN', 'CHILLS'], 'title': 'Symptom', 'type': 'string'}, 'TreatmentPlan': {'properties': {'time_period': {'description': 'The time period for the treatment plan in days, if not specified = 1', 'title': 'Time Period', 'type': 'integer'}, 'actions': {'items': {'$ref': '#/$defs/Action'}, 'title': 'Actions', 'type': 'array'}, 'medications': {'items': {'$ref': '#/$defs/Medication'}, 'title': 'Medications', 'type': 'array'}}, 'required': ['time_period', 'actions', 'medications'], 'title': 'TreatmentPlan', 'type': 'object'}}, 'properties': {'patient': {'$ref': '#/$defs/Patient'}, 'diagnosis': {'$ref': '#/$defs/Diagnosis'}, 'treatment_plan': {'$ref': '#/$defs/TreatmentPlan'}, 'symptoms': {'items': {'$ref': '#/$defs/Symptom'}, 'title': 'Symptoms', 'type': 'array'}}, 'required': ['patient', 'diagnosis', 'treatment_plan', 'symptoms'], 'title': 'MedicalReport', 'type': 'object'}\\nIf something is not clear, or incomplete, leave it blank.\\n\\n### INPUT:\\nMatilda Brooks, a 28-year-old woman residing at 42 Willow Lane, Evergreen, has been experiencing persistent symptoms, including a high fever and relentless cough for the past week. Having contacted her healthcare provider, she has been diagnosed with Influenza. Her doctor, Dr. Andrew Carter, prescribed a treatment plan spanning 10 days, consisting of rest, increased fluid intake, and specific medications. Matilda is advised to take Paracetamol to combat her fever and sore throat. Dr. Carter also recommended Ibuprofen to help reduce her fever and alleviate the inflammation caused by her cough. Lastly, Albuterol was advised to aid with any potential respiratory issues. Matilda, who can be reached at (555) 432-1987 or via email at matilda.brooks@evergreenmail.com, is keen on closely following her treatment plan to ensure a speedy recovery. Her energy levels have been significantly affected, leaving her feeling fatigued and often short of breath.\\n\\n### RESPONSE:\\n\",\n",
       "  \"\\nExtract the medical report information into the following model:\\n{'$defs': {'Action': {'enum': ['HYDRATION', 'STRESS_MANAGEMENT', 'SLEEP', 'EXERCISE', 'DIETARY_CHANGES', 'MEDICATION_ADHERENCE', 'REGULAR_CHECKUPS', 'AVOID_ALCOHOL', 'SMOKING_CESSATION', 'BALANCED_DIET', 'PHYSICAL_THERAPY', 'MENTAL_HEALTH_SUPPORT', 'PAIN_MANAGEMENT', 'IMMUNIZATION', 'FOLLOW_UP_VISITS', 'WEIGHT_MANAGEMENT', 'BLOOD_PRESSURE_MONITORING', 'BLOOD_SUGAR_MONITORING', 'CHOLESTEROL_CONTROL', 'FLUID_INTAKE_MONITORING'], 'title': 'Action', 'type': 'string'}, 'Address': {'properties': {'street': {'title': 'Street', 'type': 'string'}, 'city': {'title': 'City', 'type': 'string'}, 'state': {'title': 'State', 'type': 'string'}, 'zip_code': {'title': 'Zip Code', 'type': 'string'}}, 'required': ['street', 'city', 'state', 'zip_code'], 'title': 'Address', 'type': 'object'}, 'Diagnosis': {'enum': ['FLU', 'COLD', 'COVID19', 'ASTHMA', 'DIABETES', 'HYPERTENSION', 'MIGRAINE', 'ANEMIA', 'ARTHRITIS', 'DEPRESSION', 'ALLERGY', 'BRONCHITIS'], 'title': 'Diagnosis', 'type': 'string'}, 'Medication': {'enum': ['PARACETAMOL', 'IBUPROFEN', 'AMOXICILLIN', 'METFORMIN', 'ALBUTEROL', 'LISINOPRIL', 'ATORVASTATIN', 'ASPIRIN', 'OMEPRAZOLE', 'LEVOTHYROXINE', 'SIMVASTATIN', 'LOSARTAN'], 'title': 'Medication', 'type': 'string'}, 'Patient': {'properties': {'name': {'description': 'The first name of the patient', 'title': 'Name', 'type': 'string'}, 'surname': {'description': 'The last name of the patient', 'title': 'Surname', 'type': 'string'}, 'age': {'description': 'The age of the patient, if not specified = 0', 'title': 'Age', 'type': 'integer'}, 'gender': {'description': 'The gender of the patient. Male of Female', 'title': 'Gender', 'type': 'string'}, 'address': {'$ref': '#/$defs/Address', 'description': 'The address of the patient'}, 'phone_number': {'description': 'The phone number of the patient', 'title': 'Phone Number', 'type': 'string'}, 'email': {'description': 'The email of the patient', 'title': 'Email', 'type': 'string'}}, 'required': ['name', 'surname', 'age', 'gender', 'address', 'phone_number', 'email'], 'title': 'Patient', 'type': 'object'}, 'Symptom': {'enum': ['FEVER', 'COUGH', 'FATIGUE', 'SHORTNESS_OF_BREATH', 'NAUSEA', 'HEADACHE', 'DIZZINESS', 'SORE_THROAT', 'RUNNY_NOSE', 'MUSCLE_ACHES', 'LOSS_OF_TASTE', 'LOSS_OF_SMELL', 'CHEST_PAIN', 'CHILLS'], 'title': 'Symptom', 'type': 'string'}, 'TreatmentPlan': {'properties': {'time_period': {'description': 'The time period for the treatment plan in days, if not specified = 1', 'title': 'Time Period', 'type': 'integer'}, 'actions': {'items': {'$ref': '#/$defs/Action'}, 'title': 'Actions', 'type': 'array'}, 'medications': {'items': {'$ref': '#/$defs/Medication'}, 'title': 'Medications', 'type': 'array'}}, 'required': ['time_period', 'actions', 'medications'], 'title': 'TreatmentPlan', 'type': 'object'}}, 'properties': {'patient': {'$ref': '#/$defs/Patient'}, 'diagnosis': {'$ref': '#/$defs/Diagnosis'}, 'treatment_plan': {'$ref': '#/$defs/TreatmentPlan'}, 'symptoms': {'items': {'$ref': '#/$defs/Symptom'}, 'title': 'Symptoms', 'type': 'array'}}, 'required': ['patient', 'diagnosis', 'treatment_plan', 'symptoms'], 'title': 'MedicalReport', 'type': 'object'}\\nIf something is not clear, or incomplete, leave it blank.\\n\\n### INPUT:\\nMiriam Green, a vibrant 22-year-old student from Willowbrook, recently visited her physician with a series of troubling symptoms. She reported persistent fatigue, a moderate headache that seemed to worsen with daily activities, and occasional dizziness that left her feeling off-balance. With winter approaching, she's often found herself in the chilly corridors of Riverside University, which she suspects might have contributed to her condition. Despite the draining days, Miriam stays cheerful, often mentioning her enthusiasm for the upcoming holiday season to her friends at her Elm Street apartment in Greenfield.\\n\\nDuring the consultation, Dr. Luis Bennett diagnosed Miriam with initial signs of a migraine, noting the stress from her final exams might be a triggering factor. As part of her treatment plan, spanning a duration of two weeks, he advised her to ensure proper rest and incorporate stress-relief techniques like meditation into her daily routine. He also prescribed Paracetamol to help manage her headaches. Dr. Bennett emphasized the importance of hydration and regular meals to support her energy levels.\\n\\nAs they wrapped up the session, Miriam jokingly promised to take breaks from screen time, pushing her beloved books and series for another week or two. Her contact details, including an email, miriam.green@gmail.com, were updated in the clinic's records for follow-up. Dr. Bennett reassured her that with the right approach, she'd be back to her energetic self at her next check-up.\\n\\n### RESPONSE:\\n\"],\n",
       " 'completion': ['{\"patient\": {\"name\": \"Sophia\", \"surname\": \"Mitchell\", \"age\": 42, \"gender\": \"Female\", \"address\": {\"street\": \"17 Peacock Lane\", \"city\": \"Middleton\", \"state\": \"\", \"zip_code\": \"\"}, \"phone_number\": \"(555) 763-2891\", \"email\": \"sophiamitchell42@gmail.com\"}, \"diagnosis\": \"MIGRAINE\", \"treatment_plan\": {\"time_period\": 30, \"actions\": [\"STRESS_MANAGEMENT\", \"REGULAR_CHECKUPS\"], \"medications\": [\"IBUPROFEN\"]}, \"symptoms\": [\"HEADACHE\", \"DIZZINESS\"]}',\n",
       "  '{\"patient\": {\"name\": \"Cassandra\", \"surname\": \"Thompson\", \"age\": 28, \"gender\": \"female\", \"address\": {\"street\": \"42 Birch Lane\", \"city\": \"Willow Creek\", \"state\": \"\", \"zip_code\": \"\"}, \"phone_number\": \"555-6724\", \"email\": \"cassie.create@gmail.com\"}, \"diagnosis\": \"FLU\", \"treatment_plan\": {\"time_period\": 5, \"actions\": [\"HYDRATION\", \"SLEEP\"], \"medications\": [\"PARACETAMOL\"]}, \"symptoms\": [\"COUGH\", \"FEVER\", \"FATIGUE\", \"DIZZINESS\"]}',\n",
       "  '{\"patient\": {\"name\": \"Sebastian\", \"surname\": \"Blake\", \"age\": 42, \"gender\": \"male\", \"address\": {\"street\": \"326 Whispering Pines Lane\", \"city\": \"\", \"state\": \"\", \"zip_code\": \"\"}, \"phone_number\": \"555-0190\", \"email\": \"seb.blake@emaildomain.com\"}, \"diagnosis\": \"HYPERTENSION\", \"treatment_plan\": {\"time_period\": 180, \"actions\": [\"DIETARY_CHANGES\", \"EXERCISE\"], \"medications\": [\"LISINOPRIL\"]}, \"symptoms\": [\"HEADACHE\", \"DIZZINESS\", \"FATIGUE\"]}',\n",
       "  '{\"patient\": {\"name\": \"Matilda\", \"surname\": \"Brooks\", \"age\": 28, \"gender\": \"Female\", \"address\": {\"street\": \"42 Willow Lane\", \"city\": \"Evergreen\", \"state\": \"\", \"zip_code\": \"\"}, \"phone_number\": \"(555) 432-1987\", \"email\": \"matilda.brooks@evergreenmail.com\"}, \"diagnosis\": \"FLU\", \"treatment_plan\": {\"time_period\": 10, \"actions\": [\"HYDRATION\", \"SLEEP\"], \"medications\": [\"PARACETAMOL\", \"IBUPROFEN\", \"ALBUTEROL\"]}, \"symptoms\": [\"FEVER\", \"COUGH\", \"FATIGUE\", \"SHORTNESS_OF_BREATH\"]}',\n",
       "  '{\"patient\": {\"name\": \"Miriam\", \"surname\": \"Green\", \"age\": 22, \"gender\": \"Female\", \"address\": {\"street\": \"Elm Street\", \"city\": \"Greenfield\", \"state\": \"\", \"zip_code\": \"\"}, \"phone_number\": \"\", \"email\": \"miriam.green@gmail.com\"}, \"diagnosis\": \"MIGRAINE\", \"treatment_plan\": {\"time_period\": 14, \"actions\": [\"SLEEP\", \"STRESS_MANAGEMENT\", \"HYDRATION\"], \"medications\": [\"PARACETAMOL\"]}, \"symptoms\": [\"FATIGUE\", \"HEADACHE\", \"DIZZINESS\"]}']}"
      ]
     },
     "execution_count": 127,
     "metadata": {},
     "output_type": "execute_result"
    }
   ],
   "source": [
    "ds[\"train\"][:5]"
   ]
  },
  {
   "cell_type": "code",
   "execution_count": 128,
   "metadata": {},
   "outputs": [],
   "source": [
    "data = pd.DataFrame(ds[\"train\"])"
   ]
  },
  {
   "cell_type": "code",
   "execution_count": 129,
   "metadata": {},
   "outputs": [
    {
     "data": {
      "text/html": [
       "<div>\n",
       "<style scoped>\n",
       "    .dataframe tbody tr th:only-of-type {\n",
       "        vertical-align: middle;\n",
       "    }\n",
       "\n",
       "    .dataframe tbody tr th {\n",
       "        vertical-align: top;\n",
       "    }\n",
       "\n",
       "    .dataframe thead th {\n",
       "        text-align: right;\n",
       "    }\n",
       "</style>\n",
       "<table border=\"1\" class=\"dataframe\">\n",
       "  <thead>\n",
       "    <tr style=\"text-align: right;\">\n",
       "      <th></th>\n",
       "      <th>prompt</th>\n",
       "      <th>completion</th>\n",
       "    </tr>\n",
       "  </thead>\n",
       "  <tbody>\n",
       "    <tr>\n",
       "      <th>0</th>\n",
       "      <td>\\nExtract the medical report information into ...</td>\n",
       "      <td>{\"patient\": {\"name\": \"Sophia\", \"surname\": \"Mit...</td>\n",
       "    </tr>\n",
       "    <tr>\n",
       "      <th>1</th>\n",
       "      <td>\\nExtract the medical report information into ...</td>\n",
       "      <td>{\"patient\": {\"name\": \"Cassandra\", \"surname\": \"...</td>\n",
       "    </tr>\n",
       "    <tr>\n",
       "      <th>2</th>\n",
       "      <td>\\nExtract the medical report information into ...</td>\n",
       "      <td>{\"patient\": {\"name\": \"Sebastian\", \"surname\": \"...</td>\n",
       "    </tr>\n",
       "    <tr>\n",
       "      <th>3</th>\n",
       "      <td>\\nExtract the medical report information into ...</td>\n",
       "      <td>{\"patient\": {\"name\": \"Matilda\", \"surname\": \"Br...</td>\n",
       "    </tr>\n",
       "    <tr>\n",
       "      <th>4</th>\n",
       "      <td>\\nExtract the medical report information into ...</td>\n",
       "      <td>{\"patient\": {\"name\": \"Miriam\", \"surname\": \"Gre...</td>\n",
       "    </tr>\n",
       "  </tbody>\n",
       "</table>\n",
       "</div>"
      ],
      "text/plain": [
       "                                              prompt  \\\n",
       "0  \\nExtract the medical report information into ...   \n",
       "1  \\nExtract the medical report information into ...   \n",
       "2  \\nExtract the medical report information into ...   \n",
       "3  \\nExtract the medical report information into ...   \n",
       "4  \\nExtract the medical report information into ...   \n",
       "\n",
       "                                          completion  \n",
       "0  {\"patient\": {\"name\": \"Sophia\", \"surname\": \"Mit...  \n",
       "1  {\"patient\": {\"name\": \"Cassandra\", \"surname\": \"...  \n",
       "2  {\"patient\": {\"name\": \"Sebastian\", \"surname\": \"...  \n",
       "3  {\"patient\": {\"name\": \"Matilda\", \"surname\": \"Br...  \n",
       "4  {\"patient\": {\"name\": \"Miriam\", \"surname\": \"Gre...  "
      ]
     },
     "execution_count": 129,
     "metadata": {},
     "output_type": "execute_result"
    }
   ],
   "source": [
    "data.head()"
   ]
  },
  {
   "cell_type": "code",
   "execution_count": 130,
   "metadata": {},
   "outputs": [
    {
     "data": {
      "text/plain": [
       "(100, 2)"
      ]
     },
     "execution_count": 130,
     "metadata": {},
     "output_type": "execute_result"
    }
   ],
   "source": [
    "data.shape"
   ]
  },
  {
   "cell_type": "code",
   "execution_count": 131,
   "metadata": {},
   "outputs": [
    {
     "name": "stdout",
     "output_type": "stream",
     "text": [
      "<class 'pandas.core.frame.DataFrame'>\n",
      "RangeIndex: 100 entries, 0 to 99\n",
      "Data columns (total 2 columns):\n",
      " #   Column      Non-Null Count  Dtype \n",
      "---  ------      --------------  ----- \n",
      " 0   prompt      100 non-null    object\n",
      " 1   completion  100 non-null    object\n",
      "dtypes: object(2)\n",
      "memory usage: 1.7+ KB\n"
     ]
    }
   ],
   "source": [
    "data.info()"
   ]
  },
  {
   "cell_type": "code",
   "execution_count": 132,
   "metadata": {},
   "outputs": [
    {
     "data": {
      "text/plain": [
       "prompt        0\n",
       "completion    0\n",
       "dtype: int64"
      ]
     },
     "execution_count": 132,
     "metadata": {},
     "output_type": "execute_result"
    }
   ],
   "source": [
    "data.isnull().sum()"
   ]
  },
  {
   "cell_type": "code",
   "execution_count": 133,
   "metadata": {},
   "outputs": [
    {
     "data": {
      "text/plain": [
       "np.int64(0)"
      ]
     },
     "execution_count": 133,
     "metadata": {},
     "output_type": "execute_result"
    }
   ],
   "source": [
    "data.duplicated().sum()"
   ]
  },
  {
   "cell_type": "code",
   "execution_count": 134,
   "metadata": {},
   "outputs": [
    {
     "name": "stdout",
     "output_type": "stream",
     "text": [
      "\n",
      "Extract the medical report information into the following model:\n",
      "{'$defs': {'Action': {'enum': ['HYDRATION', 'STRESS_MANAGEMENT', 'SLEEP', 'EXERCISE', 'DIETARY_CHANGES', 'MEDICATION_ADHERENCE', 'REGULAR_CHECKUPS', 'AVOID_ALCOHOL', 'SMOKING_CESSATION', 'BALANCED_DIET', 'PHYSICAL_THERAPY', 'MENTAL_HEALTH_SUPPORT', 'PAIN_MANAGEMENT', 'IMMUNIZATION', 'FOLLOW_UP_VISITS', 'WEIGHT_MANAGEMENT', 'BLOOD_PRESSURE_MONITORING', 'BLOOD_SUGAR_MONITORING', 'CHOLESTEROL_CONTROL', 'FLUID_INTAKE_MONITORING'], 'title': 'Action', 'type': 'string'}, 'Address': {'properties': {'street': {'title': 'Street', 'type': 'string'}, 'city': {'title': 'City', 'type': 'string'}, 'state': {'title': 'State', 'type': 'string'}, 'zip_code': {'title': 'Zip Code', 'type': 'string'}}, 'required': ['street', 'city', 'state', 'zip_code'], 'title': 'Address', 'type': 'object'}, 'Diagnosis': {'enum': ['FLU', 'COLD', 'COVID19', 'ASTHMA', 'DIABETES', 'HYPERTENSION', 'MIGRAINE', 'ANEMIA', 'ARTHRITIS', 'DEPRESSION', 'ALLERGY', 'BRONCHITIS'], 'title': 'Diagnosis', 'type': 'string'}, 'Medication': {'enum': ['PARACETAMOL', 'IBUPROFEN', 'AMOXICILLIN', 'METFORMIN', 'ALBUTEROL', 'LISINOPRIL', 'ATORVASTATIN', 'ASPIRIN', 'OMEPRAZOLE', 'LEVOTHYROXINE', 'SIMVASTATIN', 'LOSARTAN'], 'title': 'Medication', 'type': 'string'}, 'Patient': {'properties': {'name': {'description': 'The first name of the patient', 'title': 'Name', 'type': 'string'}, 'surname': {'description': 'The last name of the patient', 'title': 'Surname', 'type': 'string'}, 'age': {'description': 'The age of the patient, if not specified = 0', 'title': 'Age', 'type': 'integer'}, 'gender': {'description': 'The gender of the patient. Male of Female', 'title': 'Gender', 'type': 'string'}, 'address': {'$ref': '#/$defs/Address', 'description': 'The address of the patient'}, 'phone_number': {'description': 'The phone number of the patient', 'title': 'Phone Number', 'type': 'string'}, 'email': {'description': 'The email of the patient', 'title': 'Email', 'type': 'string'}}, 'required': ['name', 'surname', 'age', 'gender', 'address', 'phone_number', 'email'], 'title': 'Patient', 'type': 'object'}, 'Symptom': {'enum': ['FEVER', 'COUGH', 'FATIGUE', 'SHORTNESS_OF_BREATH', 'NAUSEA', 'HEADACHE', 'DIZZINESS', 'SORE_THROAT', 'RUNNY_NOSE', 'MUSCLE_ACHES', 'LOSS_OF_TASTE', 'LOSS_OF_SMELL', 'CHEST_PAIN', 'CHILLS'], 'title': 'Symptom', 'type': 'string'}, 'TreatmentPlan': {'properties': {'time_period': {'description': 'The time period for the treatment plan in days, if not specified = 1', 'title': 'Time Period', 'type': 'integer'}, 'actions': {'items': {'$ref': '#/$defs/Action'}, 'title': 'Actions', 'type': 'array'}, 'medications': {'items': {'$ref': '#/$defs/Medication'}, 'title': 'Medications', 'type': 'array'}}, 'required': ['time_period', 'actions', 'medications'], 'title': 'TreatmentPlan', 'type': 'object'}}, 'properties': {'patient': {'$ref': '#/$defs/Patient'}, 'diagnosis': {'$ref': '#/$defs/Diagnosis'}, 'treatment_plan': {'$ref': '#/$defs/TreatmentPlan'}, 'symptoms': {'items': {'$ref': '#/$defs/Symptom'}, 'title': 'Symptoms', 'type': 'array'}}, 'required': ['patient', 'diagnosis', 'treatment_plan', 'symptoms'], 'title': 'MedicalReport', 'type': 'object'}\n",
      "If something is not clear, or incomplete, leave it blank.\n",
      "\n",
      "### INPUT:\n",
      "Sophia Mitchell, a 42-year-old woman, has been experiencing a relentless headache and occasional dizziness for the past two weeks. The headaches are severe and often accompanied by feeling lightheaded, which causes her to sit or lie down frequently. Sophia, residing at 17 Peacock Lane, Apt 3B, Middleton, has tried over-the-counter pain relief without success. Concerned about these persistent symptoms, she consulted her primary healthcare provider at Middleton Health Clinic. During the visit, her doctor noted her symptoms were indicative of migraines. Sophia is currently being treated with a medication regimen that includes Ibuprofen for the pain and supplementary lifestyle adjustments to help manage stress and potential triggers. The treatment plan is established for a one-month period, with regular check-ins. Sophia's contact details for further correspondence include her phone number, (555) 763-2891, and her email address, sophiamitchell42@gmail.com.\n",
      "\n",
      "### RESPONSE:\n",
      "\n"
     ]
    }
   ],
   "source": [
    "print(data[\"prompt\"][0])"
   ]
  },
  {
   "cell_type": "code",
   "execution_count": 135,
   "metadata": {},
   "outputs": [
    {
     "name": "stdout",
     "output_type": "stream",
     "text": [
      "{\"patient\": {\"name\": \"Sophia\", \"surname\": \"Mitchell\", \"age\": 42, \"gender\": \"Female\", \"address\": {\"street\": \"17 Peacock Lane\", \"city\": \"Middleton\", \"state\": \"\", \"zip_code\": \"\"}, \"phone_number\": \"(555) 763-2891\", \"email\": \"sophiamitchell42@gmail.com\"}, \"diagnosis\": \"MIGRAINE\", \"treatment_plan\": {\"time_period\": 30, \"actions\": [\"STRESS_MANAGEMENT\", \"REGULAR_CHECKUPS\"], \"medications\": [\"IBUPROFEN\"]}, \"symptoms\": [\"HEADACHE\", \"DIZZINESS\"]}\n"
     ]
    }
   ],
   "source": [
    "print(data[\"completion\"][0])"
   ]
  },
  {
   "cell_type": "code",
   "execution_count": 136,
   "metadata": {},
   "outputs": [
    {
     "name": "stdout",
     "output_type": "stream",
     "text": [
      "\n",
      "Extract the medical report information into the following model:\n",
      "{'$defs': {'Action': {'enum': ['HYDRATION', 'STRESS_MANAGEMENT', 'SLEEP', 'EXERCISE', 'DIETARY_CHANGES', 'MEDICATION_ADHERENCE', 'REGULAR_CHECKUPS', 'AVOID_ALCOHOL', 'SMOKING_CESSATION', 'BALANCED_DIET', 'PHYSICAL_THERAPY', 'MENTAL_HEALTH_SUPPORT', 'PAIN_MANAGEMENT', 'IMMUNIZATION', 'FOLLOW_UP_VISITS', 'WEIGHT_MANAGEMENT', 'BLOOD_PRESSURE_MONITORING', 'BLOOD_SUGAR_MONITORING', 'CHOLESTEROL_CONTROL', 'FLUID_INTAKE_MONITORING'], 'title': 'Action', 'type': 'string'}, 'Address': {'properties': {'street': {'title': 'Street', 'type': 'string'}, 'city': {'title': 'City', 'type': 'string'}, 'state': {'title': 'State', 'type': 'string'}, 'zip_code': {'title': 'Zip Code', 'type': 'string'}}, 'required': ['street', 'city', 'state', 'zip_code'], 'title': 'Address', 'type': 'object'}, 'Diagnosis': {'enum': ['FLU', 'COLD', 'COVID19', 'ASTHMA', 'DIABETES', 'HYPERTENSION', 'MIGRAINE', 'ANEMIA', 'ARTHRITIS', 'DEPRESSION', 'ALLERGY', 'BRONCHITIS'], 'title': 'Diagnosis', 'type': 'string'}, 'Medication': {'enum': ['PARACETAMOL', 'IBUPROFEN', 'AMOXICILLIN', 'METFORMIN', 'ALBUTEROL', 'LISINOPRIL', 'ATORVASTATIN', 'ASPIRIN', 'OMEPRAZOLE', 'LEVOTHYROXINE', 'SIMVASTATIN', 'LOSARTAN'], 'title': 'Medication', 'type': 'string'}, 'Patient': {'properties': {'name': {'description': 'The first name of the patient', 'title': 'Name', 'type': 'string'}, 'surname': {'description': 'The last name of the patient', 'title': 'Surname', 'type': 'string'}, 'age': {'description': 'The age of the patient, if not specified = 0', 'title': 'Age', 'type': 'integer'}, 'gender': {'description': 'The gender of the patient. Male of Female', 'title': 'Gender', 'type': 'string'}, 'address': {'$ref': '#/$defs/Address', 'description': 'The address of the patient'}, 'phone_number': {'description': 'The phone number of the patient', 'title': 'Phone Number', 'type': 'string'}, 'email': {'description': 'The email of the patient', 'title': 'Email', 'type': 'string'}}, 'required': ['name', 'surname', 'age', 'gender', 'address', 'phone_number', 'email'], 'title': 'Patient', 'type': 'object'}, 'Symptom': {'enum': ['FEVER', 'COUGH', 'FATIGUE', 'SHORTNESS_OF_BREATH', 'NAUSEA', 'HEADACHE', 'DIZZINESS', 'SORE_THROAT', 'RUNNY_NOSE', 'MUSCLE_ACHES', 'LOSS_OF_TASTE', 'LOSS_OF_SMELL', 'CHEST_PAIN', 'CHILLS'], 'title': 'Symptom', 'type': 'string'}, 'TreatmentPlan': {'properties': {'time_period': {'description': 'The time period for the treatment plan in days, if not specified = 1', 'title': 'Time Period', 'type': 'integer'}, 'actions': {'items': {'$ref': '#/$defs/Action'}, 'title': 'Actions', 'type': 'array'}, 'medications': {'items': {'$ref': '#/$defs/Medication'}, 'title': 'Medications', 'type': 'array'}}, 'required': ['time_period', 'actions', 'medications'], 'title': 'TreatmentPlan', 'type': 'object'}}, 'properties': {'patient': {'$ref': '#/$defs/Patient'}, 'diagnosis': {'$ref': '#/$defs/Diagnosis'}, 'treatment_plan': {'$ref': '#/$defs/TreatmentPlan'}, 'symptoms': {'items': {'$ref': '#/$defs/Symptom'}, 'title': 'Symptoms', 'type': 'array'}}, 'required': ['patient', 'diagnosis', 'treatment_plan', 'symptoms'], 'title': 'MedicalReport', 'type': 'object'}\n",
      "If something is not clear, or incomplete, leave it blank.\n",
      "\n",
      "### INPUT:\n",
      "Patient Record:  \n",
      "Name: Oliver Evergreen  \n",
      "Surname: Birchwood  \n",
      "Age: 45  \n",
      "Gender: Male  \n",
      "Address: 789 Whispering Pines Lane, Glenwood Forest, MA  \n",
      "Phone Number: 987-654-3210  \n",
      "Email: oliver.b@naturemail.com  \n",
      "  \n",
      "Diagnosis Summary: The patient, Mr. Oliver Evergreen, has been diagnosed with hypertension. He reports recurring headaches and occasional dizziness, which led to his recent medical consultation. These symptoms have been increasing due to unmanaged high blood pressure.  \n",
      "  \n",
      "Symptoms Observed:  \n",
      "- Regular headaches\n",
      "- Episodes of dizziness\n",
      "- General fatigue\n",
      "\n",
      "Treatment Plan:  \n",
      "Duration: 6 months  \n",
      "Actions:  \n",
      "1. Adopt a low-sodium diet to help manage blood pressure.  \n",
      "2. Initiate a regular cardio exercise routine to improve cardiovascular health.  \n",
      "3. Bi-weekly monitoring of blood pressure at home.  \n",
      "\n",
      "Prescribed Medications:  \n",
      "- Lisinopril: 10mg to be taken once daily in the morning to regulate blood pressure.  \n",
      "\n",
      "Mr. Evergreen is advised to follow up in three months to assess the effectiveness of the treatment plan and make necessary adjustments. Regular communication with healthcare providers is encouraged, especially if any new symptoms arise.\n",
      "\n",
      "### RESPONSE:\n",
      "\n"
     ]
    }
   ],
   "source": [
    "print(data[\"prompt\"][97])"
   ]
  },
  {
   "cell_type": "code",
   "execution_count": 137,
   "metadata": {},
   "outputs": [
    {
     "name": "stdout",
     "output_type": "stream",
     "text": [
      "{\"patient\": {\"name\": \"Oliver\", \"surname\": \"Evergreen\", \"age\": 45, \"gender\": \"Male\", \"address\": {\"street\": \"789 Whispering Pines Lane\", \"city\": \"Glenwood Forest\", \"state\": \"MA\", \"zip_code\": \"\"}, \"phone_number\": \"987-654-3210\", \"email\": \"oliver.b@naturemail.com\"}, \"diagnosis\": \"HYPERTENSION\", \"treatment_plan\": {\"time_period\": 180, \"actions\": [\"DIETARY_CHANGES\", \"EXERCISE\", \"BLOOD_PRESSURE_MONITORING\"], \"medications\": [\"LISINOPRIL\"]}, \"symptoms\": [\"HEADACHE\", \"DIZZINESS\", \"FATIGUE\"]}\n"
     ]
    }
   ],
   "source": [
    "print(data[\"completion\"][97])"
   ]
  },
  {
   "cell_type": "code",
   "execution_count": 138,
   "metadata": {},
   "outputs": [],
   "source": [
    "count_Female = data[\"completion\"].str.count('\"gender\": \"Female\"').sum()\n",
    "count_female = data[\"completion\"].str.count('\"gender\": \"female\"').sum()\n",
    "count_Male = data[\"completion\"].str.count('\"gender\": \"Male\"').sum()\n",
    "count_male = data[\"completion\"].str.count('\"gender\": \"male\"').sum()\n"
   ]
  },
  {
   "cell_type": "code",
   "execution_count": 139,
   "metadata": {},
   "outputs": [
    {
     "name": "stdout",
     "output_type": "stream",
     "text": [
      "Occurrences of \"Female\": 21\n",
      "Occurrences of \"female\": 49\n",
      "Occurrences of \"Male\": 8\n",
      "Occurrences of \"male\": 21\n"
     ]
    }
   ],
   "source": [
    "print(f'Occurrences of \"Female\": {count_Female}')\n",
    "print(f'Occurrences of \"female\": {count_female}')\n",
    "print(f'Occurrences of \"Male\": {count_Male}')\n",
    "print(f'Occurrences of \"male\": {count_male}')"
   ]
  },
  {
   "cell_type": "code",
   "execution_count": 140,
   "metadata": {},
   "outputs": [],
   "source": [
    "data[\"completion\"] = data[\"completion\"].str.replace('\"gender\": \"Female\"', '\"gender\": \"female\"', regex=False)\n",
    "data[\"completion\"] = data[\"completion\"].str.replace('\"gender\": \"Male\"', '\"gender\": \"male\"', regex=False)"
   ]
  },
  {
   "cell_type": "code",
   "execution_count": 141,
   "metadata": {},
   "outputs": [],
   "source": [
    "count_Female = data[\"completion\"].str.count('\"gender\": \"Female\"').sum()\n",
    "count_female = data[\"completion\"].str.count('\"gender\": \"female\"').sum()\n",
    "count_Male = data[\"completion\"].str.count('\"gender\": \"Male\"').sum()\n",
    "count_male = data[\"completion\"].str.count('\"gender\": \"male\"').sum()"
   ]
  },
  {
   "cell_type": "code",
   "execution_count": 142,
   "metadata": {},
   "outputs": [
    {
     "name": "stdout",
     "output_type": "stream",
     "text": [
      "Occurrences of \"Female\": 0\n",
      "Occurrences of \"female\": 70\n",
      "Occurrences of \"Male\": 0\n",
      "Occurrences of \"male\": 29\n"
     ]
    }
   ],
   "source": [
    "print(f'Occurrences of \"Female\": {count_Female}')\n",
    "print(f'Occurrences of \"female\": {count_female}')\n",
    "print(f'Occurrences of \"Male\": {count_Male}')\n",
    "print(f'Occurrences of \"male\": {count_male}')"
   ]
  },
  {
   "cell_type": "code",
   "execution_count": 143,
   "metadata": {},
   "outputs": [],
   "source": [
    "system_message = \"\"\"Extract the medical report information into the following model:\n",
    "{'$defs': {'Action': {'enum': ['HYDRATION', 'STRESS_MANAGEMENT', 'SLEEP', 'EXERCISE', 'DIETARY_CHANGES', 'MEDICATION_ADHERENCE', 'REGULAR_CHECKUPS', 'AVOID_ALCOHOL', 'SMOKING_CESSATION', 'BALANCED_DIET', 'PHYSICAL_THERAPY', 'MENTAL_HEALTH_SUPPORT', 'PAIN_MANAGEMENT', 'IMMUNIZATION', 'FOLLOW_UP_VISITS', 'WEIGHT_MANAGEMENT', 'BLOOD_PRESSURE_MONITORING', 'BLOOD_SUGAR_MONITORING', 'CHOLESTEROL_CONTROL', 'FLUID_INTAKE_MONITORING'], 'title': 'Action', 'type': 'string'}, 'Address': {'properties': {'street': {'title': 'Street', 'type': 'string'}, 'city': {'title': 'City', 'type': 'string'}, 'state': {'title': 'State', 'type': 'string'}, 'zip_code': {'title': 'Zip Code', 'type': 'string'}}, 'required': ['street', 'city', 'state', 'zip_code'], 'title': 'Address', 'type': 'object'}, 'Diagnosis': {'enum': ['FLU', 'COLD', 'COVID19', 'ASTHMA', 'DIABETES', 'HYPERTENSION', 'MIGRAINE', 'ANEMIA', 'ARTHRITIS', 'DEPRESSION', 'ALLERGY', 'BRONCHITIS'], 'title': 'Diagnosis', 'type': 'string'}, 'Medication': {'enum': ['PARACETAMOL', 'IBUPROFEN', 'AMOXICILLIN', 'METFORMIN', 'ALBUTEROL', 'LISINOPRIL', 'ATORVASTATIN', 'ASPIRIN', 'OMEPRAZOLE', 'LEVOTHYROXINE', 'SIMVASTATIN', 'LOSARTAN'], 'title': 'Medication', 'type': 'string'}, 'Patient': {'properties': {'name': {'description': 'The first name of the patient', 'title': 'Name', 'type': 'string'}, 'surname': {'description': 'The last name of the patient', 'title': 'Surname', 'type': 'string'}, 'age': {'description': 'The age of the patient, if not specified = 0', 'title': 'Age', 'type': 'integer'}, 'gender': {'description': 'The gender of the patient - male or female', 'title': 'Gender', 'type': 'string'}, 'address': {'$ref': '#/$defs/Address', 'description': 'The address of the patient'}, 'phone_number': {'description': 'The phone number of the patient', 'title': 'Phone Number', 'type': 'string'}, 'email': {'description': 'The email of the patient', 'title': 'Email', 'type': 'string'}}, 'required': ['name', 'surname', 'age', 'gender', 'address', 'phone_number', 'email'], 'title': 'Patient', 'type': 'object'}, 'Symptom': {'enum': ['FEVER', 'COUGH', 'FATIGUE', 'SHORTNESS_OF_BREATH', 'NAUSEA', 'HEADACHE', 'DIZZINESS', 'SORE_THROAT', 'RUNNY_NOSE', 'MUSCLE_ACHES', 'LOSS_OF_TASTE', 'LOSS_OF_SMELL', 'CHEST_PAIN', 'CHILLS'], 'title': 'Symptom', 'type': 'string'}, 'TreatmentPlan': {'properties': {'time_period': {'description': 'The time period for the treatment plan in days, if not specified = 1', 'title': 'Time Period', 'type': 'integer'}, 'actions': {'items': {'$ref': '#/$defs/Action'}, 'title': 'Actions', 'type': 'array'}, 'medications': {'items': {'$ref': '#/$defs/Medication'}, 'title': 'Medications', 'type': 'array'}}, 'required': ['time_period', 'actions', 'medications'], 'title': 'TreatmentPlan', 'type': 'object'}}, 'properties': {'patient': {'$ref': '#/$defs/Patient'}, 'diagnosis': {'$ref': '#/$defs/Diagnosis'}, 'treatment_plan': {'$ref': '#/$defs/TreatmentPlan'}, 'symptoms': {'items': {'$ref': '#/$defs/Symptom'}, 'title': 'Symptoms', 'type': 'array'}}, 'required': ['patient', 'diagnosis', 'treatment_plan', 'symptoms'], 'title': 'MedicalReport', 'type': 'object'}\n",
    "\n",
    "If something is not clear, or incomplete, leave it blank.\"\"\""
   ]
  },
  {
   "cell_type": "markdown",
   "metadata": {},
   "source": [
    "### Data Preprocessing"
   ]
  },
  {
   "cell_type": "code",
   "execution_count": 144,
   "metadata": {},
   "outputs": [],
   "source": [
    "import re\n",
    "\n",
    "def extract_input(text):\n",
    "    pattern = r\"### INPUT:(.*?)### RESPONSE\"\n",
    "    # re.DOTALL - allow . to match newline characters\n",
    "    match = re.search(pattern, text, re.DOTALL)\n",
    "    \n",
    "    if match:\n",
    "        return match.group(1).strip() # first captured group\n",
    "    return None\n",
    "\n",
    "data[\"prompt\"] = data[\"prompt\"].apply(extract_input)\n"
   ]
  },
  {
   "cell_type": "code",
   "execution_count": 145,
   "metadata": {},
   "outputs": [
    {
     "data": {
      "text/html": [
       "<div>\n",
       "<style scoped>\n",
       "    .dataframe tbody tr th:only-of-type {\n",
       "        vertical-align: middle;\n",
       "    }\n",
       "\n",
       "    .dataframe tbody tr th {\n",
       "        vertical-align: top;\n",
       "    }\n",
       "\n",
       "    .dataframe thead th {\n",
       "        text-align: right;\n",
       "    }\n",
       "</style>\n",
       "<table border=\"1\" class=\"dataframe\">\n",
       "  <thead>\n",
       "    <tr style=\"text-align: right;\">\n",
       "      <th></th>\n",
       "      <th>prompt</th>\n",
       "      <th>completion</th>\n",
       "    </tr>\n",
       "  </thead>\n",
       "  <tbody>\n",
       "    <tr>\n",
       "      <th>0</th>\n",
       "      <td>Sophia Mitchell, a 42-year-old woman, has been...</td>\n",
       "      <td>{\"patient\": {\"name\": \"Sophia\", \"surname\": \"Mit...</td>\n",
       "    </tr>\n",
       "    <tr>\n",
       "      <th>1</th>\n",
       "      <td>Cassandra Thompson, a vibrant 28-year-old grap...</td>\n",
       "      <td>{\"patient\": {\"name\": \"Cassandra\", \"surname\": \"...</td>\n",
       "    </tr>\n",
       "    <tr>\n",
       "      <th>2</th>\n",
       "      <td>Sebastian Blake, a 42-year-old man, has recent...</td>\n",
       "      <td>{\"patient\": {\"name\": \"Sebastian\", \"surname\": \"...</td>\n",
       "    </tr>\n",
       "    <tr>\n",
       "      <th>3</th>\n",
       "      <td>Matilda Brooks, a 28-year-old woman residing a...</td>\n",
       "      <td>{\"patient\": {\"name\": \"Matilda\", \"surname\": \"Br...</td>\n",
       "    </tr>\n",
       "    <tr>\n",
       "      <th>4</th>\n",
       "      <td>Miriam Green, a vibrant 22-year-old student fr...</td>\n",
       "      <td>{\"patient\": {\"name\": \"Miriam\", \"surname\": \"Gre...</td>\n",
       "    </tr>\n",
       "  </tbody>\n",
       "</table>\n",
       "</div>"
      ],
      "text/plain": [
       "                                              prompt  \\\n",
       "0  Sophia Mitchell, a 42-year-old woman, has been...   \n",
       "1  Cassandra Thompson, a vibrant 28-year-old grap...   \n",
       "2  Sebastian Blake, a 42-year-old man, has recent...   \n",
       "3  Matilda Brooks, a 28-year-old woman residing a...   \n",
       "4  Miriam Green, a vibrant 22-year-old student fr...   \n",
       "\n",
       "                                          completion  \n",
       "0  {\"patient\": {\"name\": \"Sophia\", \"surname\": \"Mit...  \n",
       "1  {\"patient\": {\"name\": \"Cassandra\", \"surname\": \"...  \n",
       "2  {\"patient\": {\"name\": \"Sebastian\", \"surname\": \"...  \n",
       "3  {\"patient\": {\"name\": \"Matilda\", \"surname\": \"Br...  \n",
       "4  {\"patient\": {\"name\": \"Miriam\", \"surname\": \"Gre...  "
      ]
     },
     "execution_count": 145,
     "metadata": {},
     "output_type": "execute_result"
    }
   ],
   "source": [
    "data.head()"
   ]
  },
  {
   "cell_type": "code",
   "execution_count": 146,
   "metadata": {},
   "outputs": [
    {
     "name": "stdout",
     "output_type": "stream",
     "text": [
      "Sophia Mitchell, a 42-year-old woman, has been experiencing a relentless headache and occasional dizziness for the past two weeks. The headaches are severe and often accompanied by feeling lightheaded, which causes her to sit or lie down frequently. Sophia, residing at 17 Peacock Lane, Apt 3B, Middleton, has tried over-the-counter pain relief without success. Concerned about these persistent symptoms, she consulted her primary healthcare provider at Middleton Health Clinic. During the visit, her doctor noted her symptoms were indicative of migraines. Sophia is currently being treated with a medication regimen that includes Ibuprofen for the pain and supplementary lifestyle adjustments to help manage stress and potential triggers. The treatment plan is established for a one-month period, with regular check-ins. Sophia's contact details for further correspondence include her phone number, (555) 763-2891, and her email address, sophiamitchell42@gmail.com.\n",
      "Cassandra Thompson, a vibrant 28-year-old graphic designer from Willow Creek, has been feeling under the weather lately. She noticed a persistent, hacking cough accompanied by a mild fever that just doesn't seem to go away, making her feel quite fatigued with bouts of dizziness. These symptoms led her to visit her primary care physician, Dr. Melissa Chang, at the Riverbend Medical Center. After a thorough examination and a series of tests, Dr. Chang diagnosed her with the common flu. To manage her symptoms and speed up recovery, Cassandra was advised to stay hydrated and get plenty of rest. Her treatment plan includes a 5-day course of paracetamol to help reduce the fever and manage any pain. Dr. Chang reassured Cassandra that with proper care, she should be back on her feet in no time. Cassandra, who lives at 42 Birch Lane, is eager to follow her doctor's advice and get back to her creative work. If needed, she can be reached at her home phone number, 555-6724, or via email at cassie.create@gmail.com.\n",
      "Sebastian Blake, a 42-year-old man, has recently started experiencing persistent headaches and occasional dizziness. Residing at 326 Whispering Pines Lane, he reached out to Dr. Emily Fischer when the symptoms began affecting his daily life. He mentions feeling unusually tired despite getting enough sleep. During the consultation, it was determined that he has been experiencing high blood pressure, leading Dr. Fischer to diagnose him with hypertension. A treatment plan has been devised which includes a 6-month period of lifestyle adjustments, such as reducing salt intake and increasing physical activity, alongside prescribed medication. He is to take Lisinopril daily to manage his blood pressure. For any inquiries or further assistance, Sebastian can be contacted via his email seb.blake@emaildomain.com or his phone at 555-0190.\n",
      "Matilda Brooks, a 28-year-old woman residing at 42 Willow Lane, Evergreen, has been experiencing persistent symptoms, including a high fever and relentless cough for the past week. Having contacted her healthcare provider, she has been diagnosed with Influenza. Her doctor, Dr. Andrew Carter, prescribed a treatment plan spanning 10 days, consisting of rest, increased fluid intake, and specific medications. Matilda is advised to take Paracetamol to combat her fever and sore throat. Dr. Carter also recommended Ibuprofen to help reduce her fever and alleviate the inflammation caused by her cough. Lastly, Albuterol was advised to aid with any potential respiratory issues. Matilda, who can be reached at (555) 432-1987 or via email at matilda.brooks@evergreenmail.com, is keen on closely following her treatment plan to ensure a speedy recovery. Her energy levels have been significantly affected, leaving her feeling fatigued and often short of breath.\n",
      "Miriam Green, a vibrant 22-year-old student from Willowbrook, recently visited her physician with a series of troubling symptoms. She reported persistent fatigue, a moderate headache that seemed to worsen with daily activities, and occasional dizziness that left her feeling off-balance. With winter approaching, she's often found herself in the chilly corridors of Riverside University, which she suspects might have contributed to her condition. Despite the draining days, Miriam stays cheerful, often mentioning her enthusiasm for the upcoming holiday season to her friends at her Elm Street apartment in Greenfield.\n",
      "\n",
      "During the consultation, Dr. Luis Bennett diagnosed Miriam with initial signs of a migraine, noting the stress from her final exams might be a triggering factor. As part of her treatment plan, spanning a duration of two weeks, he advised her to ensure proper rest and incorporate stress-relief techniques like meditation into her daily routine. He also prescribed Paracetamol to help manage her headaches. Dr. Bennett emphasized the importance of hydration and regular meals to support her energy levels.\n",
      "\n",
      "As they wrapped up the session, Miriam jokingly promised to take breaks from screen time, pushing her beloved books and series for another week or two. Her contact details, including an email, miriam.green@gmail.com, were updated in the clinic's records for follow-up. Dr. Bennett reassured her that with the right approach, she'd be back to her energetic self at her next check-up.\n"
     ]
    }
   ],
   "source": [
    "for text in data[\"prompt\"][:5]:\n",
    "    print(text)"
   ]
  },
  {
   "cell_type": "code",
   "execution_count": 147,
   "metadata": {},
   "outputs": [
    {
     "name": "stdout",
     "output_type": "stream",
     "text": [
      "{\"patient\": {\"name\": \"Sophia\", \"surname\": \"Mitchell\", \"age\": 42, \"gender\": \"female\", \"address\": {\"street\": \"17 Peacock Lane\", \"city\": \"Middleton\", \"state\": \"\", \"zip_code\": \"\"}, \"phone_number\": \"(555) 763-2891\", \"email\": \"sophiamitchell42@gmail.com\"}, \"diagnosis\": \"MIGRAINE\", \"treatment_plan\": {\"time_period\": 30, \"actions\": [\"STRESS_MANAGEMENT\", \"REGULAR_CHECKUPS\"], \"medications\": [\"IBUPROFEN\"]}, \"symptoms\": [\"HEADACHE\", \"DIZZINESS\"]}\n",
      "{\"patient\": {\"name\": \"Cassandra\", \"surname\": \"Thompson\", \"age\": 28, \"gender\": \"female\", \"address\": {\"street\": \"42 Birch Lane\", \"city\": \"Willow Creek\", \"state\": \"\", \"zip_code\": \"\"}, \"phone_number\": \"555-6724\", \"email\": \"cassie.create@gmail.com\"}, \"diagnosis\": \"FLU\", \"treatment_plan\": {\"time_period\": 5, \"actions\": [\"HYDRATION\", \"SLEEP\"], \"medications\": [\"PARACETAMOL\"]}, \"symptoms\": [\"COUGH\", \"FEVER\", \"FATIGUE\", \"DIZZINESS\"]}\n",
      "{\"patient\": {\"name\": \"Sebastian\", \"surname\": \"Blake\", \"age\": 42, \"gender\": \"male\", \"address\": {\"street\": \"326 Whispering Pines Lane\", \"city\": \"\", \"state\": \"\", \"zip_code\": \"\"}, \"phone_number\": \"555-0190\", \"email\": \"seb.blake@emaildomain.com\"}, \"diagnosis\": \"HYPERTENSION\", \"treatment_plan\": {\"time_period\": 180, \"actions\": [\"DIETARY_CHANGES\", \"EXERCISE\"], \"medications\": [\"LISINOPRIL\"]}, \"symptoms\": [\"HEADACHE\", \"DIZZINESS\", \"FATIGUE\"]}\n",
      "{\"patient\": {\"name\": \"Matilda\", \"surname\": \"Brooks\", \"age\": 28, \"gender\": \"female\", \"address\": {\"street\": \"42 Willow Lane\", \"city\": \"Evergreen\", \"state\": \"\", \"zip_code\": \"\"}, \"phone_number\": \"(555) 432-1987\", \"email\": \"matilda.brooks@evergreenmail.com\"}, \"diagnosis\": \"FLU\", \"treatment_plan\": {\"time_period\": 10, \"actions\": [\"HYDRATION\", \"SLEEP\"], \"medications\": [\"PARACETAMOL\", \"IBUPROFEN\", \"ALBUTEROL\"]}, \"symptoms\": [\"FEVER\", \"COUGH\", \"FATIGUE\", \"SHORTNESS_OF_BREATH\"]}\n",
      "{\"patient\": {\"name\": \"Miriam\", \"surname\": \"Green\", \"age\": 22, \"gender\": \"female\", \"address\": {\"street\": \"Elm Street\", \"city\": \"Greenfield\", \"state\": \"\", \"zip_code\": \"\"}, \"phone_number\": \"\", \"email\": \"miriam.green@gmail.com\"}, \"diagnosis\": \"MIGRAINE\", \"treatment_plan\": {\"time_period\": 14, \"actions\": [\"SLEEP\", \"STRESS_MANAGEMENT\", \"HYDRATION\"], \"medications\": [\"PARACETAMOL\"]}, \"symptoms\": [\"FATIGUE\", \"HEADACHE\", \"DIZZINESS\"]}\n"
     ]
    }
   ],
   "source": [
    "for text in data[\"completion\"][:5]:\n",
    "    print(text)"
   ]
  },
  {
   "cell_type": "code",
   "execution_count": 148,
   "metadata": {},
   "outputs": [
    {
     "data": {
      "text/plain": [
       "100"
      ]
     },
     "execution_count": 148,
     "metadata": {},
     "output_type": "execute_result"
    }
   ],
   "source": [
    "len(data[\"prompt\"].unique())"
   ]
  },
  {
   "cell_type": "code",
   "execution_count": 149,
   "metadata": {},
   "outputs": [],
   "source": [
    "# Save the cleaned data to csv\n",
    "data.to_csv(\"datasets/data.csv\", index=False)"
   ]
  },
  {
   "cell_type": "code",
   "execution_count": 150,
   "metadata": {},
   "outputs": [],
   "source": [
    "# Reload the data from saved cleaned csv\n",
    "data = pd.read_csv(\"datasets/data.csv\")"
   ]
  },
  {
   "cell_type": "code",
   "execution_count": 151,
   "metadata": {},
   "outputs": [
    {
     "data": {
      "text/html": [
       "<div>\n",
       "<style scoped>\n",
       "    .dataframe tbody tr th:only-of-type {\n",
       "        vertical-align: middle;\n",
       "    }\n",
       "\n",
       "    .dataframe tbody tr th {\n",
       "        vertical-align: top;\n",
       "    }\n",
       "\n",
       "    .dataframe thead th {\n",
       "        text-align: right;\n",
       "    }\n",
       "</style>\n",
       "<table border=\"1\" class=\"dataframe\">\n",
       "  <thead>\n",
       "    <tr style=\"text-align: right;\">\n",
       "      <th></th>\n",
       "      <th>prompt</th>\n",
       "      <th>completion</th>\n",
       "    </tr>\n",
       "  </thead>\n",
       "  <tbody>\n",
       "    <tr>\n",
       "      <th>0</th>\n",
       "      <td>Sophia Mitchell, a 42-year-old woman, has been...</td>\n",
       "      <td>{\"patient\": {\"name\": \"Sophia\", \"surname\": \"Mit...</td>\n",
       "    </tr>\n",
       "    <tr>\n",
       "      <th>1</th>\n",
       "      <td>Cassandra Thompson, a vibrant 28-year-old grap...</td>\n",
       "      <td>{\"patient\": {\"name\": \"Cassandra\", \"surname\": \"...</td>\n",
       "    </tr>\n",
       "    <tr>\n",
       "      <th>2</th>\n",
       "      <td>Sebastian Blake, a 42-year-old man, has recent...</td>\n",
       "      <td>{\"patient\": {\"name\": \"Sebastian\", \"surname\": \"...</td>\n",
       "    </tr>\n",
       "    <tr>\n",
       "      <th>3</th>\n",
       "      <td>Matilda Brooks, a 28-year-old woman residing a...</td>\n",
       "      <td>{\"patient\": {\"name\": \"Matilda\", \"surname\": \"Br...</td>\n",
       "    </tr>\n",
       "    <tr>\n",
       "      <th>4</th>\n",
       "      <td>Miriam Green, a vibrant 22-year-old student fr...</td>\n",
       "      <td>{\"patient\": {\"name\": \"Miriam\", \"surname\": \"Gre...</td>\n",
       "    </tr>\n",
       "  </tbody>\n",
       "</table>\n",
       "</div>"
      ],
      "text/plain": [
       "                                              prompt  \\\n",
       "0  Sophia Mitchell, a 42-year-old woman, has been...   \n",
       "1  Cassandra Thompson, a vibrant 28-year-old grap...   \n",
       "2  Sebastian Blake, a 42-year-old man, has recent...   \n",
       "3  Matilda Brooks, a 28-year-old woman residing a...   \n",
       "4  Miriam Green, a vibrant 22-year-old student fr...   \n",
       "\n",
       "                                          completion  \n",
       "0  {\"patient\": {\"name\": \"Sophia\", \"surname\": \"Mit...  \n",
       "1  {\"patient\": {\"name\": \"Cassandra\", \"surname\": \"...  \n",
       "2  {\"patient\": {\"name\": \"Sebastian\", \"surname\": \"...  \n",
       "3  {\"patient\": {\"name\": \"Matilda\", \"surname\": \"Br...  \n",
       "4  {\"patient\": {\"name\": \"Miriam\", \"surname\": \"Gre...  "
      ]
     },
     "execution_count": 151,
     "metadata": {},
     "output_type": "execute_result"
    }
   ],
   "source": [
    "data.head()"
   ]
  },
  {
   "cell_type": "code",
   "execution_count": 152,
   "metadata": {},
   "outputs": [
    {
     "data": {
      "text/plain": [
       "(100, 2)"
      ]
     },
     "execution_count": 152,
     "metadata": {},
     "output_type": "execute_result"
    }
   ],
   "source": [
    "data.shape"
   ]
  },
  {
   "cell_type": "code",
   "execution_count": 153,
   "metadata": {},
   "outputs": [],
   "source": [
    "data[\"system\"] = system_message"
   ]
  },
  {
   "cell_type": "code",
   "execution_count": 154,
   "metadata": {},
   "outputs": [
    {
     "data": {
      "text/html": [
       "<div>\n",
       "<style scoped>\n",
       "    .dataframe tbody tr th:only-of-type {\n",
       "        vertical-align: middle;\n",
       "    }\n",
       "\n",
       "    .dataframe tbody tr th {\n",
       "        vertical-align: top;\n",
       "    }\n",
       "\n",
       "    .dataframe thead th {\n",
       "        text-align: right;\n",
       "    }\n",
       "</style>\n",
       "<table border=\"1\" class=\"dataframe\">\n",
       "  <thead>\n",
       "    <tr style=\"text-align: right;\">\n",
       "      <th></th>\n",
       "      <th>prompt</th>\n",
       "      <th>completion</th>\n",
       "      <th>system</th>\n",
       "    </tr>\n",
       "  </thead>\n",
       "  <tbody>\n",
       "    <tr>\n",
       "      <th>0</th>\n",
       "      <td>Sophia Mitchell, a 42-year-old woman, has been...</td>\n",
       "      <td>{\"patient\": {\"name\": \"Sophia\", \"surname\": \"Mit...</td>\n",
       "      <td>Extract the medical report information into th...</td>\n",
       "    </tr>\n",
       "    <tr>\n",
       "      <th>1</th>\n",
       "      <td>Cassandra Thompson, a vibrant 28-year-old grap...</td>\n",
       "      <td>{\"patient\": {\"name\": \"Cassandra\", \"surname\": \"...</td>\n",
       "      <td>Extract the medical report information into th...</td>\n",
       "    </tr>\n",
       "    <tr>\n",
       "      <th>2</th>\n",
       "      <td>Sebastian Blake, a 42-year-old man, has recent...</td>\n",
       "      <td>{\"patient\": {\"name\": \"Sebastian\", \"surname\": \"...</td>\n",
       "      <td>Extract the medical report information into th...</td>\n",
       "    </tr>\n",
       "    <tr>\n",
       "      <th>3</th>\n",
       "      <td>Matilda Brooks, a 28-year-old woman residing a...</td>\n",
       "      <td>{\"patient\": {\"name\": \"Matilda\", \"surname\": \"Br...</td>\n",
       "      <td>Extract the medical report information into th...</td>\n",
       "    </tr>\n",
       "    <tr>\n",
       "      <th>4</th>\n",
       "      <td>Miriam Green, a vibrant 22-year-old student fr...</td>\n",
       "      <td>{\"patient\": {\"name\": \"Miriam\", \"surname\": \"Gre...</td>\n",
       "      <td>Extract the medical report information into th...</td>\n",
       "    </tr>\n",
       "  </tbody>\n",
       "</table>\n",
       "</div>"
      ],
      "text/plain": [
       "                                              prompt  \\\n",
       "0  Sophia Mitchell, a 42-year-old woman, has been...   \n",
       "1  Cassandra Thompson, a vibrant 28-year-old grap...   \n",
       "2  Sebastian Blake, a 42-year-old man, has recent...   \n",
       "3  Matilda Brooks, a 28-year-old woman residing a...   \n",
       "4  Miriam Green, a vibrant 22-year-old student fr...   \n",
       "\n",
       "                                          completion  \\\n",
       "0  {\"patient\": {\"name\": \"Sophia\", \"surname\": \"Mit...   \n",
       "1  {\"patient\": {\"name\": \"Cassandra\", \"surname\": \"...   \n",
       "2  {\"patient\": {\"name\": \"Sebastian\", \"surname\": \"...   \n",
       "3  {\"patient\": {\"name\": \"Matilda\", \"surname\": \"Br...   \n",
       "4  {\"patient\": {\"name\": \"Miriam\", \"surname\": \"Gre...   \n",
       "\n",
       "                                              system  \n",
       "0  Extract the medical report information into th...  \n",
       "1  Extract the medical report information into th...  \n",
       "2  Extract the medical report information into th...  \n",
       "3  Extract the medical report information into th...  \n",
       "4  Extract the medical report information into th...  "
      ]
     },
     "execution_count": 154,
     "metadata": {},
     "output_type": "execute_result"
    }
   ],
   "source": [
    "data.head()"
   ]
  },
  {
   "cell_type": "code",
   "execution_count": 155,
   "metadata": {},
   "outputs": [
    {
     "data": {
      "text/plain": [
       "\"Extract the medical report information into the following model:\\n{'$defs': {'Action': {'enum': ['HYDRATION', 'STRESS_MANAGEMENT', 'SLEEP', 'EXERCISE', 'DIETARY_CHANGES', 'MEDICATION_ADHERENCE', 'REGULAR_CHECKUPS', 'AVOID_ALCOHOL', 'SMOKING_CESSATION', 'BALANCED_DIET', 'PHYSICAL_THERAPY', 'MENTAL_HEALTH_SUPPORT', 'PAIN_MANAGEMENT', 'IMMUNIZATION', 'FOLLOW_UP_VISITS', 'WEIGHT_MANAGEMENT', 'BLOOD_PRESSURE_MONITORING', 'BLOOD_SUGAR_MONITORING', 'CHOLESTEROL_CONTROL', 'FLUID_INTAKE_MONITORING'], 'title': 'Action', 'type': 'string'}, 'Address': {'properties': {'street': {'title': 'Street', 'type': 'string'}, 'city': {'title': 'City', 'type': 'string'}, 'state': {'title': 'State', 'type': 'string'}, 'zip_code': {'title': 'Zip Code', 'type': 'string'}}, 'required': ['street', 'city', 'state', 'zip_code'], 'title': 'Address', 'type': 'object'}, 'Diagnosis': {'enum': ['FLU', 'COLD', 'COVID19', 'ASTHMA', 'DIABETES', 'HYPERTENSION', 'MIGRAINE', 'ANEMIA', 'ARTHRITIS', 'DEPRESSION', 'ALLERGY', 'BRONCHITIS'], 'title': 'Diagnosis', 'type': 'string'}, 'Medication': {'enum': ['PARACETAMOL', 'IBUPROFEN', 'AMOXICILLIN', 'METFORMIN', 'ALBUTEROL', 'LISINOPRIL', 'ATORVASTATIN', 'ASPIRIN', 'OMEPRAZOLE', 'LEVOTHYROXINE', 'SIMVASTATIN', 'LOSARTAN'], 'title': 'Medication', 'type': 'string'}, 'Patient': {'properties': {'name': {'description': 'The first name of the patient', 'title': 'Name', 'type': 'string'}, 'surname': {'description': 'The last name of the patient', 'title': 'Surname', 'type': 'string'}, 'age': {'description': 'The age of the patient, if not specified = 0', 'title': 'Age', 'type': 'integer'}, 'gender': {'description': 'The gender of the patient - male or female', 'title': 'Gender', 'type': 'string'}, 'address': {'$ref': '#/$defs/Address', 'description': 'The address of the patient'}, 'phone_number': {'description': 'The phone number of the patient', 'title': 'Phone Number', 'type': 'string'}, 'email': {'description': 'The email of the patient', 'title': 'Email', 'type': 'string'}}, 'required': ['name', 'surname', 'age', 'gender', 'address', 'phone_number', 'email'], 'title': 'Patient', 'type': 'object'}, 'Symptom': {'enum': ['FEVER', 'COUGH', 'FATIGUE', 'SHORTNESS_OF_BREATH', 'NAUSEA', 'HEADACHE', 'DIZZINESS', 'SORE_THROAT', 'RUNNY_NOSE', 'MUSCLE_ACHES', 'LOSS_OF_TASTE', 'LOSS_OF_SMELL', 'CHEST_PAIN', 'CHILLS'], 'title': 'Symptom', 'type': 'string'}, 'TreatmentPlan': {'properties': {'time_period': {'description': 'The time period for the treatment plan in days, if not specified = 1', 'title': 'Time Period', 'type': 'integer'}, 'actions': {'items': {'$ref': '#/$defs/Action'}, 'title': 'Actions', 'type': 'array'}, 'medications': {'items': {'$ref': '#/$defs/Medication'}, 'title': 'Medications', 'type': 'array'}}, 'required': ['time_period', 'actions', 'medications'], 'title': 'TreatmentPlan', 'type': 'object'}}, 'properties': {'patient': {'$ref': '#/$defs/Patient'}, 'diagnosis': {'$ref': '#/$defs/Diagnosis'}, 'treatment_plan': {'$ref': '#/$defs/TreatmentPlan'}, 'symptoms': {'items': {'$ref': '#/$defs/Symptom'}, 'title': 'Symptoms', 'type': 'array'}}, 'required': ['patient', 'diagnosis', 'treatment_plan', 'symptoms'], 'title': 'MedicalReport', 'type': 'object'}\\n\\nIf something is not clear, or incomplete, leave it blank.\""
      ]
     },
     "execution_count": 155,
     "metadata": {},
     "output_type": "execute_result"
    }
   ],
   "source": [
    "data[\"system\"][0]"
   ]
  },
  {
   "cell_type": "markdown",
   "metadata": {},
   "source": [
    "### Split the data into train, validation and test sets"
   ]
  },
  {
   "cell_type": "code",
   "execution_count": 156,
   "metadata": {},
   "outputs": [],
   "source": [
    "data = data.sample(frac=1, random_state=42).reset_index(drop=True)"
   ]
  },
  {
   "cell_type": "code",
   "execution_count": 157,
   "metadata": {},
   "outputs": [
    {
     "data": {
      "text/html": [
       "<div>\n",
       "<style scoped>\n",
       "    .dataframe tbody tr th:only-of-type {\n",
       "        vertical-align: middle;\n",
       "    }\n",
       "\n",
       "    .dataframe tbody tr th {\n",
       "        vertical-align: top;\n",
       "    }\n",
       "\n",
       "    .dataframe thead th {\n",
       "        text-align: right;\n",
       "    }\n",
       "</style>\n",
       "<table border=\"1\" class=\"dataframe\">\n",
       "  <thead>\n",
       "    <tr style=\"text-align: right;\">\n",
       "      <th></th>\n",
       "      <th>prompt</th>\n",
       "      <th>completion</th>\n",
       "      <th>system</th>\n",
       "    </tr>\n",
       "  </thead>\n",
       "  <tbody>\n",
       "    <tr>\n",
       "      <th>0</th>\n",
       "      <td>\"Anna Caldwell, a 29-year-old woman, recently ...</td>\n",
       "      <td>{\"patient\": {\"name\": \"Anna\", \"surname\": \"Caldw...</td>\n",
       "      <td>Extract the medical report information into th...</td>\n",
       "    </tr>\n",
       "    <tr>\n",
       "      <th>1</th>\n",
       "      <td>Clarence Whittaker, a 62-year-old man, came in...</td>\n",
       "      <td>{\"patient\": {\"name\": \"Clarence\", \"surname\": \"W...</td>\n",
       "      <td>Extract the medical report information into th...</td>\n",
       "    </tr>\n",
       "    <tr>\n",
       "      <th>2</th>\n",
       "      <td>When Ava Montgomery, a 34-year-old woman from ...</td>\n",
       "      <td>{\"patient\": {\"name\": \"Ava\", \"surname\": \"Montgo...</td>\n",
       "      <td>Extract the medical report information into th...</td>\n",
       "    </tr>\n",
       "    <tr>\n",
       "      <th>3</th>\n",
       "      <td>Matilda Emerson, a 42-year-old woman, has been...</td>\n",
       "      <td>{\"patient\": {\"name\": \"Matilda\", \"surname\": \"Em...</td>\n",
       "      <td>Extract the medical report information into th...</td>\n",
       "    </tr>\n",
       "    <tr>\n",
       "      <th>4</th>\n",
       "      <td>Larissa Bennett, a 34-year-old woman living at...</td>\n",
       "      <td>{\"patient\": {\"name\": \"Larissa\", \"surname\": \"Be...</td>\n",
       "      <td>Extract the medical report information into th...</td>\n",
       "    </tr>\n",
       "  </tbody>\n",
       "</table>\n",
       "</div>"
      ],
      "text/plain": [
       "                                              prompt  \\\n",
       "0  \"Anna Caldwell, a 29-year-old woman, recently ...   \n",
       "1  Clarence Whittaker, a 62-year-old man, came in...   \n",
       "2  When Ava Montgomery, a 34-year-old woman from ...   \n",
       "3  Matilda Emerson, a 42-year-old woman, has been...   \n",
       "4  Larissa Bennett, a 34-year-old woman living at...   \n",
       "\n",
       "                                          completion  \\\n",
       "0  {\"patient\": {\"name\": \"Anna\", \"surname\": \"Caldw...   \n",
       "1  {\"patient\": {\"name\": \"Clarence\", \"surname\": \"W...   \n",
       "2  {\"patient\": {\"name\": \"Ava\", \"surname\": \"Montgo...   \n",
       "3  {\"patient\": {\"name\": \"Matilda\", \"surname\": \"Em...   \n",
       "4  {\"patient\": {\"name\": \"Larissa\", \"surname\": \"Be...   \n",
       "\n",
       "                                              system  \n",
       "0  Extract the medical report information into th...  \n",
       "1  Extract the medical report information into th...  \n",
       "2  Extract the medical report information into th...  \n",
       "3  Extract the medical report information into th...  \n",
       "4  Extract the medical report information into th...  "
      ]
     },
     "execution_count": 157,
     "metadata": {},
     "output_type": "execute_result"
    }
   ],
   "source": [
    "data.head()"
   ]
  },
  {
   "cell_type": "code",
   "execution_count": 158,
   "metadata": {},
   "outputs": [
    {
     "data": {
      "text/plain": [
       "(100, 3)"
      ]
     },
     "execution_count": 158,
     "metadata": {},
     "output_type": "execute_result"
    }
   ],
   "source": [
    "data.shape"
   ]
  },
  {
   "cell_type": "code",
   "execution_count": 159,
   "metadata": {},
   "outputs": [],
   "source": [
    "# Calculate the number of rows for each set\n",
    "# train set: 70%, validation set: 20%, test set: 10%\n",
    "train_size = int(0.7 * len(data))\n",
    "validation_size = int(0.2 * len(data))\n",
    "test_size = len(data) - train_size - validation_size \n",
    "\n",
    "# Split\n",
    "train = data[:train_size]\n",
    "validation = data[train_size: train_size + validation_size]\n",
    "test = data[train_size + validation_size:]"
   ]
  },
  {
   "cell_type": "code",
   "execution_count": 160,
   "metadata": {},
   "outputs": [
    {
     "name": "stdout",
     "output_type": "stream",
     "text": [
      "Train set size: 70\n",
      "Validation set size: 20\n",
      "Test set size: 10\n"
     ]
    }
   ],
   "source": [
    "print(f\"Train set size: {len(train)}\")\n",
    "print(f\"Validation set size: {len(validation)}\")\n",
    "print(f\"Test set size: {len(test)}\")"
   ]
  },
  {
   "cell_type": "code",
   "execution_count": 161,
   "metadata": {},
   "outputs": [
    {
     "name": "stdout",
     "output_type": "stream",
     "text": [
      "Train and validation size total: 90\n"
     ]
    }
   ],
   "source": [
    "train_validation = data[: train_size + validation_size]\n",
    "print(f\"Train and validation size total: {len(train_validation)}\")"
   ]
  },
  {
   "cell_type": "markdown",
   "metadata": {},
   "source": [
    "### Estimate token count and training cost"
   ]
  },
  {
   "cell_type": "code",
   "execution_count": 162,
   "metadata": {},
   "outputs": [],
   "source": [
    "import tiktoken"
   ]
  },
  {
   "cell_type": "code",
   "execution_count": 163,
   "metadata": {},
   "outputs": [],
   "source": [
    "def cal_num_tokens_from_text(string: str, encoding_name: str) -> int:\n",
    "    encoding = tiktoken.encoding_for_model(encoding_name)\n",
    "    token_count = len(encoding.encode(string))\n",
    "    return token_count\n",
    "\n",
    "def cal_num_tokens_from_data(data, encoding_name: str) -> int:\n",
    "    total_tokens = 0\n",
    "    for column in data.columns:\n",
    "        # Count tokens of all values of single column\n",
    "        for value in data[column]:\n",
    "            total_tokens += cal_num_tokens_from_text(str(value), encoding_name)\n",
    "    \n",
    "    return total_tokens"
   ]
  },
  {
   "cell_type": "code",
   "execution_count": 164,
   "metadata": {},
   "outputs": [
    {
     "name": "stdout",
     "output_type": "stream",
     "text": [
      "Total number of tokens in the data: 127097\n"
     ]
    }
   ],
   "source": [
    "total_tokens = cal_num_tokens_from_data(train_validation, \"gpt-4o-mini-2024-07-18\")\n",
    "print(f\"Total number of tokens in the data: {total_tokens}\")"
   ]
  },
  {
   "cell_type": "code",
   "execution_count": 165,
   "metadata": {},
   "outputs": [
    {
     "name": "stdout",
     "output_type": "stream",
     "text": [
      "Training cost: $0.38\n"
     ]
    }
   ],
   "source": [
    "cost_for_1000_tokens = 0.003000\n",
    "cost_per_token = cost_for_1000_tokens / 1000\n",
    "training_cost = total_tokens * cost_per_token\n",
    "\n",
    "print(f\"Training cost: ${training_cost:.2f}\")"
   ]
  },
  {
   "cell_type": "code",
   "execution_count": 166,
   "metadata": {},
   "outputs": [],
   "source": [
    "# Save train, validation, and test as csv files\n",
    "train.to_csv(\"datasets/train.csv\", index=False)\n",
    "validation.to_csv(\"datasets/validation.csv\", index=False)\n",
    "test.to_csv(\"datasets/test.csv\", index=False)"
   ]
  },
  {
   "cell_type": "code",
   "execution_count": 167,
   "metadata": {},
   "outputs": [],
   "source": [
    "train = pd.read_csv(\"datasets/train.csv\")\n",
    "validation = pd.read_csv(\"datasets/validation.csv\")\n",
    "test = pd.read_csv(\"datasets/test.csv\")\n"
   ]
  },
  {
   "cell_type": "code",
   "execution_count": 168,
   "metadata": {},
   "outputs": [
    {
     "data": {
      "text/plain": [
       "((70, 3), (20, 3), (10, 3))"
      ]
     },
     "execution_count": 168,
     "metadata": {},
     "output_type": "execute_result"
    }
   ],
   "source": [
    "train.shape, validation.shape, test.shape"
   ]
  },
  {
   "cell_type": "markdown",
   "metadata": {},
   "source": [
    "### Convert JSON to JSONL"
   ]
  },
  {
   "cell_type": "code",
   "execution_count": 169,
   "metadata": {},
   "outputs": [],
   "source": [
    "import json\n",
    "\n",
    "train = pd.read_csv(\"datasets/train.csv\", encoding=\"unicode_escape\")\n",
    "validation = pd.read_csv(\"datasets/validation.csv\", encoding=\"unicode_escape\")\n",
    "test = pd.read_csv(\"datasets/test.csv\", encoding=\"unicode_escape\")"
   ]
  },
  {
   "cell_type": "code",
   "execution_count": 170,
   "metadata": {},
   "outputs": [
    {
     "data": {
      "text/html": [
       "<div>\n",
       "<style scoped>\n",
       "    .dataframe tbody tr th:only-of-type {\n",
       "        vertical-align: middle;\n",
       "    }\n",
       "\n",
       "    .dataframe tbody tr th {\n",
       "        vertical-align: top;\n",
       "    }\n",
       "\n",
       "    .dataframe thead th {\n",
       "        text-align: right;\n",
       "    }\n",
       "</style>\n",
       "<table border=\"1\" class=\"dataframe\">\n",
       "  <thead>\n",
       "    <tr style=\"text-align: right;\">\n",
       "      <th></th>\n",
       "      <th>prompt</th>\n",
       "      <th>completion</th>\n",
       "      <th>system</th>\n",
       "    </tr>\n",
       "  </thead>\n",
       "  <tbody>\n",
       "    <tr>\n",
       "      <th>0</th>\n",
       "      <td>\"Anna Caldwell, a 29-year-old woman, recently ...</td>\n",
       "      <td>{\"patient\": {\"name\": \"Anna\", \"surname\": \"Caldw...</td>\n",
       "      <td>Extract the medical report information into th...</td>\n",
       "    </tr>\n",
       "    <tr>\n",
       "      <th>1</th>\n",
       "      <td>Clarence Whittaker, a 62-year-old man, came in...</td>\n",
       "      <td>{\"patient\": {\"name\": \"Clarence\", \"surname\": \"W...</td>\n",
       "      <td>Extract the medical report information into th...</td>\n",
       "    </tr>\n",
       "    <tr>\n",
       "      <th>2</th>\n",
       "      <td>When Ava Montgomery, a 34-year-old woman from ...</td>\n",
       "      <td>{\"patient\": {\"name\": \"Ava\", \"surname\": \"Montgo...</td>\n",
       "      <td>Extract the medical report information into th...</td>\n",
       "    </tr>\n",
       "    <tr>\n",
       "      <th>3</th>\n",
       "      <td>Matilda Emerson, a 42-year-old woman, has been...</td>\n",
       "      <td>{\"patient\": {\"name\": \"Matilda\", \"surname\": \"Em...</td>\n",
       "      <td>Extract the medical report information into th...</td>\n",
       "    </tr>\n",
       "    <tr>\n",
       "      <th>4</th>\n",
       "      <td>Larissa Bennett, a 34-year-old woman living at...</td>\n",
       "      <td>{\"patient\": {\"name\": \"Larissa\", \"surname\": \"Be...</td>\n",
       "      <td>Extract the medical report information into th...</td>\n",
       "    </tr>\n",
       "  </tbody>\n",
       "</table>\n",
       "</div>"
      ],
      "text/plain": [
       "                                              prompt  \\\n",
       "0  \"Anna Caldwell, a 29-year-old woman, recently ...   \n",
       "1  Clarence Whittaker, a 62-year-old man, came in...   \n",
       "2  When Ava Montgomery, a 34-year-old woman from ...   \n",
       "3  Matilda Emerson, a 42-year-old woman, has been...   \n",
       "4  Larissa Bennett, a 34-year-old woman living at...   \n",
       "\n",
       "                                          completion  \\\n",
       "0  {\"patient\": {\"name\": \"Anna\", \"surname\": \"Caldw...   \n",
       "1  {\"patient\": {\"name\": \"Clarence\", \"surname\": \"W...   \n",
       "2  {\"patient\": {\"name\": \"Ava\", \"surname\": \"Montgo...   \n",
       "3  {\"patient\": {\"name\": \"Matilda\", \"surname\": \"Em...   \n",
       "4  {\"patient\": {\"name\": \"Larissa\", \"surname\": \"Be...   \n",
       "\n",
       "                                              system  \n",
       "0  Extract the medical report information into th...  \n",
       "1  Extract the medical report information into th...  \n",
       "2  Extract the medical report information into th...  \n",
       "3  Extract the medical report information into th...  \n",
       "4  Extract the medical report information into th...  "
      ]
     },
     "execution_count": 170,
     "metadata": {},
     "output_type": "execute_result"
    }
   ],
   "source": [
    "train.head()"
   ]
  },
  {
   "cell_type": "code",
   "execution_count": 171,
   "metadata": {},
   "outputs": [],
   "source": [
    "def row_to_jsonl(row):\n",
    "    return {\n",
    "        \"messages\": [\n",
    "            {\"role\": \"system\", \"content\": row[\"system\"]},\n",
    "            {\"role\": \"user\", \"content\": row[\"prompt\"]},\n",
    "            {\"role\": \"assistant\", \"content\": row[\"completion\"]}\n",
    "        ]\n",
    "    }\n",
    "\n",
    "jsonl_data = train.apply(row_to_jsonl, axis=1).tolist()\n",
    "\n",
    "with open(\"datasets/train.jsonl\", \"w\") as f:\n",
    "    for item in jsonl_data:\n",
    "        f.write(json.dumps(item) + \"\\n\")\n"
   ]
  },
  {
   "cell_type": "code",
   "execution_count": 172,
   "metadata": {},
   "outputs": [],
   "source": [
    "# For validation data\n",
    "jsonl_data = validation.apply(row_to_jsonl, axis=1).tolist()\n",
    "\n",
    "with open(\"datasets/validation.jsonl\", \"w\") as f:\n",
    "    for item in jsonl_data:\n",
    "        f.write(json.dumps(item) + \"\\n\")"
   ]
  },
  {
   "cell_type": "code",
   "execution_count": 173,
   "metadata": {},
   "outputs": [],
   "source": [
    "# For test data\n",
    "jsonl_data = test.apply(row_to_jsonl, axis=1).tolist()\n",
    "\n",
    "with open(\"datasets/test.jsonl\", \"w\") as f:\n",
    "    for item in jsonl_data:\n",
    "        f.write(json.dumps(item) + \"\\n\")"
   ]
  }
 ],
 "metadata": {
  "kernelspec": {
   "display_name": ".venv",
   "language": "python",
   "name": "python3"
  },
  "language_info": {
   "codemirror_mode": {
    "name": "ipython",
    "version": 3
   },
   "file_extension": ".py",
   "mimetype": "text/x-python",
   "name": "python",
   "nbconvert_exporter": "python",
   "pygments_lexer": "ipython3",
   "version": "3.12.0"
  }
 },
 "nbformat": 4,
 "nbformat_minor": 2
}
