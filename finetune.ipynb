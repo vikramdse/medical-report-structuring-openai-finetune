{
 "cells": [
  {
   "cell_type": "code",
   "execution_count": 1,
   "metadata": {},
   "outputs": [],
   "source": [
    "from openai import OpenAI\n",
    "from dotenv import load_dotenv"
   ]
  },
  {
   "cell_type": "code",
   "execution_count": 2,
   "metadata": {},
   "outputs": [
    {
     "data": {
      "text/plain": [
       "True"
      ]
     },
     "execution_count": 2,
     "metadata": {},
     "output_type": "execute_result"
    }
   ],
   "source": [
    "load_dotenv()"
   ]
  },
  {
   "cell_type": "code",
   "execution_count": 3,
   "metadata": {},
   "outputs": [],
   "source": [
    "client = OpenAI()"
   ]
  },
  {
   "cell_type": "code",
   "execution_count": 4,
   "metadata": {},
   "outputs": [
    {
     "data": {
      "text/plain": [
       "FileObject(id='file-CaXTmyJckoPMd5DBF7pJN2', bytes=355532, created_at=1740305220, filename='train.jsonl', object='file', purpose='fine-tune', status='processed', status_details=None, expires_at=None)"
      ]
     },
     "execution_count": 4,
     "metadata": {},
     "output_type": "execute_result"
    }
   ],
   "source": [
    "client.files.create(file=open(\"datasets/train.jsonl\", \"rb\"), purpose=\"fine-tune\")"
   ]
  },
  {
   "cell_type": "code",
   "execution_count": 5,
   "metadata": {},
   "outputs": [
    {
     "data": {
      "text/plain": [
       "FileObject(id='file-H1vSu2h6wYh49KM4Z3ySC6', bytes=101519, created_at=1740305223, filename='validation.jsonl', object='file', purpose='fine-tune', status='processed', status_details=None, expires_at=None)"
      ]
     },
     "execution_count": 5,
     "metadata": {},
     "output_type": "execute_result"
    }
   ],
   "source": [
    "client.files.create(file=open(\"datasets/validation.jsonl\", \"rb\"), purpose=\"fine-tune\")"
   ]
  },
  {
   "cell_type": "code",
   "execution_count": 7,
   "metadata": {},
   "outputs": [
    {
     "data": {
      "text/plain": [
       "FineTuningJob(id='ftjob-DSAZJT1qJC4IKwg7KMSSL5qO', created_at=1740305274, error=Error(code=None, message=None, param=None), fine_tuned_model=None, finished_at=None, hyperparameters=Hyperparameters(batch_size='auto', learning_rate_multiplier='auto', n_epochs=1), model='gpt-4o-mini-2024-07-18', object='fine_tuning.job', organization_id='org-1F9JVxGhaBwZURcEHJEKBBmH', result_files=[], seed=825633848, status='validating_files', trained_tokens=None, training_file='file-CaXTmyJckoPMd5DBF7pJN2', validation_file='file-H1vSu2h6wYh49KM4Z3ySC6', estimated_finish=None, integrations=[], method=Method(dpo=None, supervised=MethodSupervised(hyperparameters=MethodSupervisedHyperparameters(batch_size='auto', learning_rate_multiplier='auto', n_epochs=1)), type='supervised'), user_provided_suffix=None)"
      ]
     },
     "execution_count": 7,
     "metadata": {},
     "output_type": "execute_result"
    }
   ],
   "source": [
    "client.fine_tuning.jobs.create(model=\"gpt-4o-mini-2024-07-18\",\n",
    "                               training_file=\"file-CaXTmyJckoPMd5DBF7pJN2\",\n",
    "                               hyperparameters={\n",
    "                                   \"n_epochs\": 1\n",
    "                               },\n",
    "                               validation_file=\"file-H1vSu2h6wYh49KM4Z3ySC6\")"
   ]
  },
  {
   "cell_type": "code",
   "execution_count": 8,
   "metadata": {},
   "outputs": [
    {
     "data": {
      "text/plain": [
       "FineTuningJob(id='ftjob-DSAZJT1qJC4IKwg7KMSSL5qO', created_at=1740305274, error=Error(code=None, message=None, param=None), fine_tuned_model=None, finished_at=None, hyperparameters=Hyperparameters(batch_size='auto', learning_rate_multiplier='auto', n_epochs=1), model='gpt-4o-mini-2024-07-18', object='fine_tuning.job', organization_id='org-1F9JVxGhaBwZURcEHJEKBBmH', result_files=[], seed=825633848, status='validating_files', trained_tokens=None, training_file='file-CaXTmyJckoPMd5DBF7pJN2', validation_file='file-H1vSu2h6wYh49KM4Z3ySC6', estimated_finish=None, integrations=[], method=Method(dpo=None, supervised=MethodSupervised(hyperparameters=MethodSupervisedHyperparameters(batch_size='auto', learning_rate_multiplier='auto', n_epochs=1)), type='supervised'), user_provided_suffix=None)"
      ]
     },
     "execution_count": 8,
     "metadata": {},
     "output_type": "execute_result"
    }
   ],
   "source": [
    "client.fine_tuning.jobs.retrieve(\"ftjob-DSAZJT1qJC4IKwg7KMSSL5qO\")"
   ]
  },
  {
   "cell_type": "code",
   "execution_count": 10,
   "metadata": {},
   "outputs": [
    {
     "data": {
      "text/plain": [
       "SyncCursorPage[FineTuningJobEvent](data=[FineTuningJobEvent(id='ftevent-jGcNtAdGM6AU5THrGKtj9L2X', created_at=1740305343, level='info', message='Fine-tuning job started', object='fine_tuning.job.event', data=None, type='message'), FineTuningJobEvent(id='ftevent-H7mycZ5it4dKXi5aUwQrBKOZ', created_at=1740305341, level='info', message='Files validated, moving job to queued state', object='fine_tuning.job.event', data={}, type='message'), FineTuningJobEvent(id='ftevent-NE3qSCyYHmkx9xaFIHh2EyZy', created_at=1740305274, level='info', message='Validating training file: file-CaXTmyJckoPMd5DBF7pJN2 and validation file: file-H1vSu2h6wYh49KM4Z3ySC6', object='fine_tuning.job.event', data={}, type='message'), FineTuningJobEvent(id='ftevent-karQ1hwX6acbPdGuHxFH9tEs', created_at=1740305274, level='info', message='Created fine-tuning job: ftjob-DSAZJT1qJC4IKwg7KMSSL5qO', object='fine_tuning.job.event', data={}, type='message')], has_more=False, object='list')"
      ]
     },
     "execution_count": 10,
     "metadata": {},
     "output_type": "execute_result"
    }
   ],
   "source": [
    "client.fine_tuning.jobs.list_events(\"ftjob-DSAZJT1qJC4IKwg7KMSSL5qO\", limit=5)"
   ]
  }
 ],
 "metadata": {
  "kernelspec": {
   "display_name": ".venv",
   "language": "python",
   "name": "python3"
  },
  "language_info": {
   "codemirror_mode": {
    "name": "ipython",
    "version": 3
   },
   "file_extension": ".py",
   "mimetype": "text/x-python",
   "name": "python",
   "nbconvert_exporter": "python",
   "pygments_lexer": "ipython3",
   "version": "3.12.0"
  }
 },
 "nbformat": 4,
 "nbformat_minor": 2
}
